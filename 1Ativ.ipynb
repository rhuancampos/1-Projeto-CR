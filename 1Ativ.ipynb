{
  "nbformat": 4,
  "nbformat_minor": 0,
  "metadata": {
    "colab": {
      "name": "1Ativ.ipynb",
      "provenance": [],
      "authorship_tag": "ABX9TyM9V5LWj9fr8WFZEn89h6I1",
      "include_colab_link": true
    },
    "kernelspec": {
      "name": "python3",
      "display_name": "Python 3"
    }
  },
  "cells": [
    {
      "cell_type": "markdown",
      "metadata": {
        "id": "view-in-github",
        "colab_type": "text"
      },
      "source": [
        "<a href=\"https://colab.research.google.com/github/rhuancampos/1-Projeto-CR/blob/master/1Ativ.ipynb\" target=\"_parent\"><img src=\"https://colab.research.google.com/assets/colab-badge.svg\" alt=\"Open In Colab\"/></a>"
      ]
    },
    {
      "cell_type": "code",
      "metadata": {
        "id": "LrDIian5fbiD",
        "outputId": "bd79b2a5-c00c-402f-956e-74acf6362957",
        "colab": {
          "base_uri": "https://localhost:8080/",
          "height": 493
        }
      },
      "source": [
        "!pip install cairocffi\n",
        "!pip download python-igraph\n",
        "!pip install --no-index --find-links=\".\" python-igraph\n",
        "!pip install networkx"
      ],
      "execution_count": 1,
      "outputs": [
        {
          "output_type": "stream",
          "text": [
            "Collecting cairocffi\n",
            "\u001b[?25l  Downloading https://files.pythonhosted.org/packages/f7/99/b3a2c6393563ccbe081ffcceb359ec27a6227792c5169604c1bd8128031a/cairocffi-1.1.0.tar.gz (68kB)\n",
            "\r\u001b[K     |████▊                           | 10kB 17.9MB/s eta 0:00:01\r\u001b[K     |█████████▌                      | 20kB 1.7MB/s eta 0:00:01\r\u001b[K     |██████████████▎                 | 30kB 2.1MB/s eta 0:00:01\r\u001b[K     |███████████████████             | 40kB 2.5MB/s eta 0:00:01\r\u001b[K     |███████████████████████▉        | 51kB 2.0MB/s eta 0:00:01\r\u001b[K     |████████████████████████████▋   | 61kB 2.3MB/s eta 0:00:01\r\u001b[K     |████████████████████████████████| 71kB 2.0MB/s \n",
            "\u001b[?25hRequirement already satisfied: cffi>=1.1.0 in /usr/local/lib/python3.6/dist-packages (from cairocffi) (1.14.3)\n",
            "Requirement already satisfied: setuptools>=39.2.0 in /usr/local/lib/python3.6/dist-packages (from cairocffi) (50.3.0)\n",
            "Requirement already satisfied: pycparser in /usr/local/lib/python3.6/dist-packages (from cffi>=1.1.0->cairocffi) (2.20)\n",
            "Building wheels for collected packages: cairocffi\n",
            "  Building wheel for cairocffi (setup.py) ... \u001b[?25l\u001b[?25hdone\n",
            "  Created wheel for cairocffi: filename=cairocffi-1.1.0-cp36-none-any.whl size=88591 sha256=c576775b9680ad2e53ada3aa0d56817f8a0f82168097ff0ff3171770c71ee3bf\n",
            "  Stored in directory: /root/.cache/pip/wheels/11/5e/47/167d9dfd5fa5850dd0cd3db80afe6db46e620edec3419dce5a\n",
            "Successfully built cairocffi\n",
            "Installing collected packages: cairocffi\n",
            "Successfully installed cairocffi-1.1.0\n",
            "Collecting python-igraph\n",
            "\u001b[?25l  Downloading https://files.pythonhosted.org/packages/20/6e/3ac2fc339051f652d4a01570d133e4d15321aaec929ffb5f49a67852f8d9/python_igraph-0.8.3-cp36-cp36m-manylinux2010_x86_64.whl (3.2MB)\n",
            "\u001b[K     |████████████████████████████████| 3.2MB 2.8MB/s \n",
            "\u001b[?25h  Saved ./python_igraph-0.8.3-cp36-cp36m-manylinux2010_x86_64.whl\n",
            "Collecting texttable>=1.6.2\n",
            "  Downloading https://files.pythonhosted.org/packages/06/f5/46201c428aebe0eecfa83df66bf3e6caa29659dbac5a56ddfd83cae0d4a4/texttable-1.6.3-py2.py3-none-any.whl\n",
            "  Saved ./texttable-1.6.3-py2.py3-none-any.whl\n",
            "Successfully downloaded python-igraph texttable\n",
            "Looking in links: .\n",
            "Processing ./python_igraph-0.8.3-cp36-cp36m-manylinux2010_x86_64.whl\n",
            "Processing ./texttable-1.6.3-py2.py3-none-any.whl\n",
            "Installing collected packages: texttable, python-igraph\n",
            "Successfully installed python-igraph-0.8.3 texttable-1.6.3\n",
            "Requirement already satisfied: networkx in /usr/local/lib/python3.6/dist-packages (2.5)\n",
            "Requirement already satisfied: decorator>=4.3.0 in /usr/local/lib/python3.6/dist-packages (from networkx) (4.4.2)\n"
          ],
          "name": "stdout"
        }
      ]
    },
    {
      "cell_type": "code",
      "metadata": {
        "id": "lzypu9rsZzeb"
      },
      "source": [
        "import numpy as np\n",
        "import igraph as ig\n",
        "from igraph import *\n",
        "from datetime import datetime\n",
        "import matplotlib.pyplot as plt\n",
        "import seaborn as sns\n",
        "import time"
      ],
      "execution_count": 5,
      "outputs": []
    },
    {
      "cell_type": "code",
      "metadata": {
        "id": "RNj6aPgpbS_R"
      },
      "source": [
        "# function to check if x is power of 2 \n",
        "def isPowerOfTwo( x ): \n",
        "  \n",
        "    # First x in the below expression is \n",
        "    # for the case when x is 0 \n",
        "    return x and (not(x & (x - 1))) \n",
        "  \n",
        "# function to check whether the two numbers \n",
        "# differ at one bit position only \n",
        "def differAtOneBitPos( a , b ): \n",
        "    return isPowerOfTwo(a ^ b) \n",
        "\n",
        "#Função graph é lenta para n grandes, estimo que ela seja O(n²)\n",
        "def graph(n):\n",
        "  time_start_0 = time.time()\n",
        "  vertices = 2 ** n\n",
        "  arestas = []\n",
        "  grafo = Graph()\n",
        "  grafo.add_vertices(vertices)\n",
        "\n",
        "  for x in range(vertices):\n",
        "    for y in range(vertices):\n",
        "      if (differAtOneBitPos(x, y)):\n",
        "        if (y,x) not in arestas:\n",
        "          arestas.append((x,y))\n",
        "\n",
        "  grafo.add_edges(arestas)\n",
        "  time_start_1 = time.time()\n",
        "\n",
        "  return grafo, arestas, time_start_1 - time_start_0"
      ],
      "execution_count": 12,
      "outputs": []
    },
    {
      "cell_type": "code",
      "metadata": {
        "id": "z1FONUR2esNi",
        "outputId": "4647db1f-1555-4c75-c0f0-81f2d175ba2c",
        "colab": {
          "base_uri": "https://localhost:8080/",
          "height": 136
        }
      },
      "source": [
        "grafo, arestas, tempo_final = graph(3)\n",
        "\n",
        "print(grafo)\n",
        "print(arestas)\n",
        "print('tempo do graph(segundos):')\n",
        "print(tempo_final)\n",
        "times = []"
      ],
      "execution_count": 13,
      "outputs": [
        {
          "output_type": "stream",
          "text": [
            "IGRAPH U--- 8 12 --\n",
            "+ edges:\n",
            "0 -- 1 2 4   2 -- 0 3 6   4 -- 0 5 6   6 -- 2 4 7\n",
            "1 -- 0 3 5   3 -- 1 2 7   5 -- 1 4 7   7 -- 3 5 6\n",
            "[(0, 1), (0, 2), (0, 4), (1, 3), (1, 5), (2, 3), (2, 6), (3, 7), (4, 5), (4, 6), (5, 7), (6, 7)]\n",
            "tempo do graph(segundos):\n",
            "0.00014209747314453125\n"
          ],
          "name": "stdout"
        }
      ]
    },
    {
      "cell_type": "markdown",
      "metadata": {
        "id": "spS_73aKCRMg"
      },
      "source": [
        "https://igraph.org/python/doc/tutorial/tutorial.html#layout-algorithms\n"
      ]
    },
    {
      "cell_type": "code",
      "metadata": {
        "id": "SW02INzi7rk2"
      },
      "source": [
        "layout = grafo.layout(\"kk\")\n",
        "\n",
        "time_kk_0 = time.time()\n",
        "plot(grafo, layout = layout)\n",
        "time_kk_1 = time.time()\n",
        "times.append(time_kk_1 - time_kk_0)\n",
        "\n",
        "plot(grafo, layout = layout)"
      ],
      "execution_count": null,
      "outputs": []
    },
    {
      "cell_type": "code",
      "metadata": {
        "id": "RTOvqbsO7u3z"
      },
      "source": [
        "#Complexity: O(|V|)\n",
        "\n",
        "layout = grafo.layout(\"random\")\n",
        "\n",
        "time_random_0 = time.time()\n",
        "plot(grafo, layout = layout)\n",
        "time_random_1 = time.time()\n",
        "\n",
        "times.append(time_random_1 - time_random_0)\n",
        "plot(grafo, layout = layout)\n"
      ],
      "execution_count": null,
      "outputs": []
    },
    {
      "cell_type": "code",
      "metadata": {
        "id": "BgWTzuPe71Fh"
      },
      "source": [
        "#Complexity: O(|V|)\n",
        "\n",
        "layout = grafo.layout(\"circle\")\n",
        "\n",
        "time_circle_0 = time.time()\n",
        "plot(grafo, layout = layout)\n",
        "time_circle_1 = time.time()\n",
        "\n",
        "times.append(time_circle_1 - time_circle_0)\n",
        "plot(grafo, layout = layout)"
      ],
      "execution_count": null,
      "outputs": []
    },
    {
      "cell_type": "code",
      "metadata": {
        "id": "GcL-E5QO740J"
      },
      "source": [
        "#Complexity: O(|V|)\n",
        "\n",
        "layout = grafo.layout(\"star\")\n",
        "time_star_0 = time.time()\n",
        "plot(grafo, layout = layout)\n",
        "time_star_1 = time.time()\n",
        "\n",
        "times.append(time_star_1 - time_star_0)\n",
        "plot(grafo, layout = layout)"
      ],
      "execution_count": null,
      "outputs": []
    },
    {
      "cell_type": "code",
      "metadata": {
        "id": "Fooknzo177E4"
      },
      "source": [
        "#Complexity: O(|V|)\n",
        "\n",
        "layout = grafo.layout(\"grid\")\n",
        "time_grid_0 = time.time()\n",
        "plot(grafo, layout = layout)\n",
        "time_grid_1 = time.time()\n",
        "\n",
        "times.append(time_grid_1 - time_grid_0)\n",
        "plot(grafo, layout = layout)"
      ],
      "execution_count": null,
      "outputs": []
    },
    {
      "cell_type": "code",
      "metadata": {
        "id": "p_JAxvH97_ap"
      },
      "source": [
        "#Complexity: O(n(|V|^2|E|))\n",
        "\n",
        "layout = grafo.layout(\"graphopt\")\n",
        "time_graphopt_0 = time.time()\n",
        "plot(grafo, layout = layout)\n",
        "time_graphopt_1 = time.time()\n",
        "\n",
        "times.append(time_graphopt_1 - time_graphopt_0)\n",
        "plot(grafo, layout = layout)"
      ],
      "execution_count": null,
      "outputs": []
    },
    {
      "cell_type": "code",
      "metadata": {
        "id": "wkZ1fSZV8FAZ"
      },
      "source": [
        "layout = grafo.layout(\"fr\")\n",
        "time_fr_0 = time.time()\n",
        "plot(grafo, layout = layout)\n",
        "time_fr_1 = time.time()\n",
        "\n",
        "times.append(time_fr_1 - time_fr_0)\n",
        "plot(grafo, layout = layout)"
      ],
      "execution_count": null,
      "outputs": []
    },
    {
      "cell_type": "code",
      "metadata": {
        "id": "ExqNy7u08Gqa"
      },
      "source": [
        "layout = grafo.layout(\"kamada_kawai\")\n",
        "time_kamada_kawai_0 = time.time()\n",
        "plot(grafo, layout = layout)\n",
        "time_kamada_kawai_1 = time.time()\n",
        "\n",
        "times.append(time_kamada_kawai_1 - time_kamada_kawai_0)\n",
        "plot(grafo, layout = layout)"
      ],
      "execution_count": null,
      "outputs": []
    },
    {
      "cell_type": "code",
      "metadata": {
        "id": "Pa24ynlq8NIp"
      },
      "source": [
        "layout = grafo.layout(\"davidson_harel\")\n",
        "time_davidson_harel_0 = time.time()\n",
        "plot(grafo, layout = layout)\n",
        "time_davidson_harel_1 = time.time()\n",
        "\n",
        "times.append(time_davidson_harel_1 - time_davidson_harel_0)\n",
        "plot(grafo, layout = layout)"
      ],
      "execution_count": null,
      "outputs": []
    },
    {
      "cell_type": "code",
      "metadata": {
        "id": "R3PMASW_8Ppr"
      },
      "source": [
        "layout = grafo.layout(\"mds\")\n",
        "time_mds_0 = time.time()\n",
        "plot(grafo, layout = layout)\n",
        "time_mds_1 = time.time()\n",
        "\n",
        "times.append(time_mds_1 - time_mds_0)\n",
        "plot(grafo, layout = layout)"
      ],
      "execution_count": null,
      "outputs": []
    },
    {
      "cell_type": "code",
      "metadata": {
        "id": "lMuLsvLW8UHT"
      },
      "source": [
        "layout = grafo.layout(\"lgl\")\n",
        "time_lgl_0 = time.time()\n",
        "plot(grafo, layout = layout)\n",
        "time_lgl_1 = time.time()\n",
        "\n",
        "times.append(time_lgl_1 - time_lgl_0)\n",
        "plot(grafo, layout = layout)"
      ],
      "execution_count": null,
      "outputs": []
    },
    {
      "cell_type": "code",
      "metadata": {
        "id": "R55yKTyN8Ap5"
      },
      "source": [
        "\"Não roda\"\n",
        "#layout = grafo.layout(\"bipartite\")\n",
        "#plot(grafo, layout = layout)"
      ],
      "execution_count": null,
      "outputs": []
    },
    {
      "cell_type": "code",
      "metadata": {
        "id": "_tNVcGWl8I2L"
      },
      "source": [
        "\"Não roda\"\n",
        "#layout = grafo.layout(\"gem\")\n",
        "#plot(grafo, layout = layout)"
      ],
      "execution_count": null,
      "outputs": []
    },
    {
      "cell_type": "code",
      "metadata": {
        "id": "_6rOsQUq8WXz"
      },
      "source": [
        "\"Não roda\"\n",
        "#layout = grafo.layout(\"random_3d\")\n",
        "#plot(grafo, layout = layout)"
      ],
      "execution_count": null,
      "outputs": []
    },
    {
      "cell_type": "code",
      "metadata": {
        "id": "jbQuUVL28Yyc"
      },
      "source": [
        "\"Não roda\"\n",
        "#layout = grafo.layout(\"sphere\")\n",
        "#plot(grafo, layout = layout)"
      ],
      "execution_count": null,
      "outputs": []
    },
    {
      "cell_type": "code",
      "metadata": {
        "id": "wWkvQz-J8ai5"
      },
      "source": [
        "\"Não roda\"\n",
        "#layout = grafo.layout(\"grid_3d\")\n",
        "#plot(grafo, layout = layout)"
      ],
      "execution_count": null,
      "outputs": []
    },
    {
      "cell_type": "code",
      "metadata": {
        "id": "baXqNDls8eR7"
      },
      "source": [
        "\"Não roda\"\n",
        "#layout = grafo.layout(\"fruchterman_reingold_3d\")\n",
        "#plot(grafo, layout = layout)"
      ],
      "execution_count": null,
      "outputs": []
    },
    {
      "cell_type": "code",
      "metadata": {
        "id": "tYvJOFV58gz6"
      },
      "source": [
        "\"Não roda\"\n",
        "#layout = grafo.layout(\"kamada_kawai_3d\")\n",
        "#plot(grafo, layout = layout)"
      ],
      "execution_count": null,
      "outputs": []
    },
    {
      "cell_type": "code",
      "metadata": {
        "id": "V8a8SziegBtq"
      },
      "source": [
        "times\n",
        "tipos_de_grafos = ['kk', 'random', 'circle', 'star', 'grid', 'graphopt', 'fr', 'kamada_kawai', 'davidson_harel', 'mds', 'lgl']\n",
        "\n",
        "plt.barh(tipos_de_grafos, times, color=\"red\")"
      ],
      "execution_count": null,
      "outputs": []
    },
    {
      "cell_type": "code",
      "metadata": {
        "id": "-pyOyuy2WKrT"
      },
      "source": [
        "grafo_5, aresta_grafo_5 = graph(5) \n",
        "\n",
        "a = grafo_5.get_adjacency()\n",
        "b = grafo_5.vs.degree()\n",
        "c = grafo_5.degree_distribution()\n",
        "d = grafo_5.diameter()\n",
        "\n",
        "print(\"Matriz de Adjacencia\")\n",
        "print(a)\n",
        "\n",
        "print(\"------\")\n",
        "print(\"Sequencia de Graus\")\n",
        "print(b)\n",
        "\n",
        "print(\"------\")\n",
        "print(\"Histograma de Graus\")\n",
        "print(c)\n",
        "\n",
        "print(\"------\")\n",
        "print(\"Diametro\")\n",
        "print(d)"
      ],
      "execution_count": null,
      "outputs": []
    }
  ]
}