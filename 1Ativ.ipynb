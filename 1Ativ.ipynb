{
  "nbformat": 4,
  "nbformat_minor": 0,
  "metadata": {
    "colab": {
      "name": "1Ativ.ipynb",
      "provenance": [],
      "authorship_tag": "ABX9TyPOp92Q7p/HvLFouPinkPBu",
      "include_colab_link": true
    },
    "kernelspec": {
      "name": "python3",
      "display_name": "Python 3"
    }
  },
  "cells": [
    {
      "cell_type": "markdown",
      "metadata": {
        "id": "view-in-github",
        "colab_type": "text"
      },
      "source": [
        "<a href=\"https://colab.research.google.com/github/rhuancampos/1-Projeto-CR/blob/master/1Ativ.ipynb\" target=\"_parent\"><img src=\"https://colab.research.google.com/assets/colab-badge.svg\" alt=\"Open In Colab\"/></a>"
      ]
    },
    {
      "cell_type": "code",
      "metadata": {
        "id": "LrDIian5fbiD",
        "outputId": "8647a1d5-3758-4ab3-eaf3-a60b4de1575c",
        "colab": {
          "base_uri": "https://localhost:8080/",
          "height": 269
        }
      },
      "source": [
        "!pip install cairocffi\n",
        "!pip download python-igraph\n",
        "!pip install --no-index --find-links=\".\" python-igraph\n",
        "!pip install networkx"
      ],
      "execution_count": 69,
      "outputs": [
        {
          "output_type": "stream",
          "text": [
            "Requirement already satisfied: cairocffi in /usr/local/lib/python3.6/dist-packages (1.1.0)\n",
            "Requirement already satisfied: setuptools>=39.2.0 in /usr/local/lib/python3.6/dist-packages (from cairocffi) (50.3.0)\n",
            "Requirement already satisfied: cffi>=1.1.0 in /usr/local/lib/python3.6/dist-packages (from cairocffi) (1.14.3)\n",
            "Requirement already satisfied: pycparser in /usr/local/lib/python3.6/dist-packages (from cffi>=1.1.0->cairocffi) (2.20)\n",
            "Collecting python-igraph\n",
            "  File was already downloaded /content/python_igraph-0.8.2-cp36-cp36m-manylinux2010_x86_64.whl\n",
            "Collecting texttable>=1.6.2\n",
            "  File was already downloaded /content/texttable-1.6.3-py2.py3-none-any.whl\n",
            "Successfully downloaded python-igraph texttable\n",
            "Looking in links: .\n",
            "Requirement already satisfied: python-igraph in /usr/local/lib/python3.6/dist-packages (0.8.2)\n",
            "Requirement already satisfied: texttable>=1.6.2 in /usr/local/lib/python3.6/dist-packages (from python-igraph) (1.6.3)\n",
            "Requirement already satisfied: networkx in /usr/local/lib/python3.6/dist-packages (2.5)\n",
            "Requirement already satisfied: decorator>=4.3.0 in /usr/local/lib/python3.6/dist-packages (from networkx) (4.4.2)\n"
          ],
          "name": "stdout"
        }
      ]
    },
    {
      "cell_type": "code",
      "metadata": {
        "id": "lzypu9rsZzeb"
      },
      "source": [
        "import numpy as np\n",
        "import igraph as ig\n",
        "from igraph import *\n",
        "from datetime import datetime\n",
        "import matplotlib.pyplot as plt\n",
        "import seaborn as sns"
      ],
      "execution_count": 70,
      "outputs": []
    },
    {
      "cell_type": "code",
      "metadata": {
        "id": "RNj6aPgpbS_R"
      },
      "source": [
        "# function to check if x is power of 2 \n",
        "def isPowerOfTwo( x ): \n",
        "  \n",
        "    # First x in the below expression is \n",
        "    # for the case when x is 0 \n",
        "    return x and (not(x & (x - 1))) \n",
        "  \n",
        "# function to check whether the two numbers \n",
        "# differ at one bit position only \n",
        "def differAtOneBitPos( a , b ): \n",
        "    return isPowerOfTwo(a ^ b) \n",
        "\n",
        "#Função graph é lenta para n grandes, estimo que ela seja O(n²)\n",
        "def graph(n):\n",
        "  vertices = 2 ** n\n",
        "  arestas = []\n",
        "  grafo = Graph()\n",
        "  grafo.add_vertices(vertices)\n",
        "\n",
        "  for x in range(vertices):\n",
        "    for y in range(vertices):\n",
        "      if (differAtOneBitPos(x, y)):\n",
        "        if (y,x) not in arestas:\n",
        "          arestas.append((x,y))\n",
        "\n",
        "  grafo.add_edges(arestas)\n",
        "\n",
        "  return grafo, arestas"
      ],
      "execution_count": 71,
      "outputs": []
    },
    {
      "cell_type": "code",
      "metadata": {
        "id": "z1FONUR2esNi",
        "outputId": "ff57bc9d-0bc9-47b6-b6d7-374dd8cb5a5d",
        "colab": {
          "base_uri": "https://localhost:8080/",
          "height": 107
        }
      },
      "source": [
        "grafo, arestas = graph(3)\n",
        "\n",
        "print(grafo)\n",
        "print(arestas)\n",
        "times = []"
      ],
      "execution_count": 72,
      "outputs": [
        {
          "output_type": "stream",
          "text": [
            "IGRAPH U--- 8 12 --\n",
            "+ edges:\n",
            "0 -- 1 2 4   2 -- 0 3 6   4 -- 0 5 6   6 -- 2 4 7\n",
            "1 -- 0 3 5   3 -- 1 2 7   5 -- 1 4 7   7 -- 3 5 6\n",
            "[(0, 1), (0, 2), (0, 4), (1, 3), (1, 5), (2, 3), (2, 6), (3, 7), (4, 5), (4, 6), (5, 7), (6, 7)]\n"
          ],
          "name": "stdout"
        }
      ]
    },
    {
      "cell_type": "markdown",
      "metadata": {
        "id": "spS_73aKCRMg"
      },
      "source": [
        "https://igraph.org/python/doc/tutorial/tutorial.html#layout-algorithms\n"
      ]
    },
    {
      "cell_type": "code",
      "metadata": {
        "id": "SW02INzi7rk2",
        "outputId": "a53facc2-5649-47f5-c988-bb19830f9419",
        "colab": {
          "base_uri": "https://localhost:8080/",
          "height": 820
        }
      },
      "source": [
        "layout = grafo.layout(\"kk\")\n",
        "\n",
        "time_kk_0 = time.time()\n",
        "plot(grafo, layout = layout)\n",
        "time_kk_1 = time.time()\n",
        "times.append(time_kk_1 - time_kk_0)\n",
        "\n",
        "plot(grafo, layout = layout)"
      ],
      "execution_count": 73,
      "outputs": [
        {
          "output_type": "execute_result",
          "data": {
            "text/plain": [
              "<igraph.drawing.Plot at 0x7fe9f58b0908>"
            ],
            "image/svg+xml": "<?xml version=\"1.0\" encoding=\"UTF-8\"?>\n<svg xmlns=\"http://www.w3.org/2000/svg\" xmlns:xlink=\"http://www.w3.org/1999/xlink\" width=\"600pt\" height=\"600pt\" viewBox=\"0 0 600 600\" version=\"1.1\">\n<g id=\"surface155\">\n<rect x=\"0\" y=\"0\" width=\"600\" height=\"600\" style=\"fill:rgb(100%,100%,100%);fill-opacity:1;stroke:none;\"/>\n<path style=\"fill:none;stroke-width:1;stroke-linecap:butt;stroke-linejoin:miter;stroke:rgb(26.666667%,26.666667%,26.666667%);stroke-opacity:1;stroke-miterlimit:10;\" d=\"M 580 418.035156 L 336.042969 580 \"/>\n<path style=\"fill:none;stroke-width:1;stroke-linecap:butt;stroke-linejoin:miter;stroke:rgb(26.666667%,26.666667%,26.666667%);stroke-opacity:1;stroke-miterlimit:10;\" d=\"M 580 418.035156 L 253.113281 331.679688 \"/>\n<path style=\"fill:none;stroke-width:1;stroke-linecap:butt;stroke-linejoin:miter;stroke:rgb(26.666667%,26.666667%,26.666667%);stroke-opacity:1;stroke-miterlimit:10;\" d=\"M 580 418.035156 L 572.925781 118.550781 \"/>\n<path style=\"fill:none;stroke-width:1;stroke-linecap:butt;stroke-linejoin:miter;stroke:rgb(26.666667%,26.666667%,26.666667%);stroke-opacity:1;stroke-miterlimit:10;\" d=\"M 336.042969 580 L 27.070312 481.449219 \"/>\n<path style=\"fill:none;stroke-width:1;stroke-linecap:butt;stroke-linejoin:miter;stroke:rgb(26.666667%,26.666667%,26.666667%);stroke-opacity:1;stroke-miterlimit:10;\" d=\"M 336.042969 580 L 346.882812 268.320312 \"/>\n<path style=\"fill:none;stroke-width:1;stroke-linecap:butt;stroke-linejoin:miter;stroke:rgb(26.666667%,26.666667%,26.666667%);stroke-opacity:1;stroke-miterlimit:10;\" d=\"M 253.113281 331.679688 L 27.070312 481.449219 \"/>\n<path style=\"fill:none;stroke-width:1;stroke-linecap:butt;stroke-linejoin:miter;stroke:rgb(26.666667%,26.666667%,26.666667%);stroke-opacity:1;stroke-miterlimit:10;\" d=\"M 253.113281 331.679688 L 263.953125 20 \"/>\n<path style=\"fill:none;stroke-width:1;stroke-linecap:butt;stroke-linejoin:miter;stroke:rgb(26.666667%,26.666667%,26.666667%);stroke-opacity:1;stroke-miterlimit:10;\" d=\"M 27.070312 481.449219 L 20 181.960938 \"/>\n<path style=\"fill:none;stroke-width:1;stroke-linecap:butt;stroke-linejoin:miter;stroke:rgb(26.666667%,26.666667%,26.666667%);stroke-opacity:1;stroke-miterlimit:10;\" d=\"M 572.925781 118.550781 L 346.882812 268.320312 \"/>\n<path style=\"fill:none;stroke-width:1;stroke-linecap:butt;stroke-linejoin:miter;stroke:rgb(26.666667%,26.666667%,26.666667%);stroke-opacity:1;stroke-miterlimit:10;\" d=\"M 572.925781 118.550781 L 263.953125 20 \"/>\n<path style=\"fill:none;stroke-width:1;stroke-linecap:butt;stroke-linejoin:miter;stroke:rgb(26.666667%,26.666667%,26.666667%);stroke-opacity:1;stroke-miterlimit:10;\" d=\"M 346.882812 268.320312 L 20 181.960938 \"/>\n<path style=\"fill:none;stroke-width:1;stroke-linecap:butt;stroke-linejoin:miter;stroke:rgb(26.666667%,26.666667%,26.666667%);stroke-opacity:1;stroke-miterlimit:10;\" d=\"M 263.953125 20 L 20 181.960938 \"/>\n<path style=\"fill-rule:nonzero;fill:rgb(100%,0%,0%);fill-opacity:1;stroke-width:1;stroke-linecap:butt;stroke-linejoin:miter;stroke:rgb(0%,0%,0%);stroke-opacity:1;stroke-miterlimit:10;\" d=\"M 590 418.035156 C 590 423.558594 585.523438 428.035156 580 428.035156 C 574.476562 428.035156 570 423.558594 570 418.035156 C 570 412.511719 574.476562 408.035156 580 408.035156 C 585.523438 408.035156 590 412.511719 590 418.035156 \"/>\n<path style=\"fill-rule:nonzero;fill:rgb(100%,0%,0%);fill-opacity:1;stroke-width:1;stroke-linecap:butt;stroke-linejoin:miter;stroke:rgb(0%,0%,0%);stroke-opacity:1;stroke-miterlimit:10;\" d=\"M 346.042969 580 C 346.042969 585.523438 341.566406 590 336.042969 590 C 330.519531 590 326.042969 585.523438 326.042969 580 C 326.042969 574.476562 330.519531 570 336.042969 570 C 341.566406 570 346.042969 574.476562 346.042969 580 \"/>\n<path style=\"fill-rule:nonzero;fill:rgb(100%,0%,0%);fill-opacity:1;stroke-width:1;stroke-linecap:butt;stroke-linejoin:miter;stroke:rgb(0%,0%,0%);stroke-opacity:1;stroke-miterlimit:10;\" d=\"M 263.113281 331.679688 C 263.113281 337.203125 258.636719 341.679688 253.113281 341.679688 C 247.59375 341.679688 243.113281 337.203125 243.113281 331.679688 C 243.113281 326.15625 247.59375 321.679688 253.113281 321.679688 C 258.636719 321.679688 263.113281 326.15625 263.113281 331.679688 \"/>\n<path style=\"fill-rule:nonzero;fill:rgb(100%,0%,0%);fill-opacity:1;stroke-width:1;stroke-linecap:butt;stroke-linejoin:miter;stroke:rgb(0%,0%,0%);stroke-opacity:1;stroke-miterlimit:10;\" d=\"M 37.070312 481.449219 C 37.070312 486.96875 32.59375 491.449219 27.070312 491.449219 C 21.546875 491.449219 17.070312 486.96875 17.070312 481.449219 C 17.070312 475.925781 21.546875 471.449219 27.070312 471.449219 C 32.59375 471.449219 37.070312 475.925781 37.070312 481.449219 \"/>\n<path style=\"fill-rule:nonzero;fill:rgb(100%,0%,0%);fill-opacity:1;stroke-width:1;stroke-linecap:butt;stroke-linejoin:miter;stroke:rgb(0%,0%,0%);stroke-opacity:1;stroke-miterlimit:10;\" d=\"M 582.925781 118.550781 C 582.925781 124.074219 578.449219 128.550781 572.925781 128.550781 C 567.402344 128.550781 562.925781 124.074219 562.925781 118.550781 C 562.925781 113.027344 567.402344 108.550781 572.925781 108.550781 C 578.449219 108.550781 582.925781 113.027344 582.925781 118.550781 \"/>\n<path style=\"fill-rule:nonzero;fill:rgb(100%,0%,0%);fill-opacity:1;stroke-width:1;stroke-linecap:butt;stroke-linejoin:miter;stroke:rgb(0%,0%,0%);stroke-opacity:1;stroke-miterlimit:10;\" d=\"M 356.882812 268.320312 C 356.882812 273.839844 352.40625 278.320312 346.882812 278.320312 C 341.359375 278.320312 336.882812 273.839844 336.882812 268.320312 C 336.882812 262.796875 341.359375 258.320312 346.882812 258.320312 C 352.40625 258.320312 356.882812 262.796875 356.882812 268.320312 \"/>\n<path style=\"fill-rule:nonzero;fill:rgb(100%,0%,0%);fill-opacity:1;stroke-width:1;stroke-linecap:butt;stroke-linejoin:miter;stroke:rgb(0%,0%,0%);stroke-opacity:1;stroke-miterlimit:10;\" d=\"M 273.953125 20 C 273.953125 25.523438 269.476562 30 263.953125 30 C 258.433594 30 253.953125 25.523438 253.953125 20 C 253.953125 14.476562 258.433594 10 263.953125 10 C 269.476562 10 273.953125 14.476562 273.953125 20 \"/>\n<path style=\"fill-rule:nonzero;fill:rgb(100%,0%,0%);fill-opacity:1;stroke-width:1;stroke-linecap:butt;stroke-linejoin:miter;stroke:rgb(0%,0%,0%);stroke-opacity:1;stroke-miterlimit:10;\" d=\"M 30 181.960938 C 30 187.484375 25.523438 191.960938 20 191.960938 C 14.476562 191.960938 10 187.484375 10 181.960938 C 10 176.441406 14.476562 171.960938 20 171.960938 C 25.523438 171.960938 30 176.441406 30 181.960938 \"/>\n</g>\n</svg>\n"
          },
          "metadata": {
            "tags": [],
            "image/svg+xml": {
              "isolated": true
            }
          },
          "execution_count": 73
        }
      ]
    },
    {
      "cell_type": "code",
      "metadata": {
        "id": "RTOvqbsO7u3z",
        "outputId": "5b86d84d-4301-4e8e-a2ce-0c3845ed05cf",
        "colab": {
          "base_uri": "https://localhost:8080/",
          "height": 820
        }
      },
      "source": [
        "#Complexity: O(|V|)\n",
        "\n",
        "layout = grafo.layout(\"random\")\n",
        "\n",
        "time_random_0 = time.time()\n",
        "plot(grafo, layout = layout)\n",
        "time_random_1 = time.time()\n",
        "\n",
        "times.append(time_random_1 - time_random_0)\n",
        "plot(grafo, layout = layout)\n"
      ],
      "execution_count": 74,
      "outputs": [
        {
          "output_type": "execute_result",
          "data": {
            "text/plain": [
              "<igraph.drawing.Plot at 0x7fe9f58ad320>"
            ],
            "image/svg+xml": "<?xml version=\"1.0\" encoding=\"UTF-8\"?>\n<svg xmlns=\"http://www.w3.org/2000/svg\" xmlns:xlink=\"http://www.w3.org/1999/xlink\" width=\"600pt\" height=\"600pt\" viewBox=\"0 0 600 600\" version=\"1.1\">\n<g id=\"surface162\">\n<rect x=\"0\" y=\"0\" width=\"600\" height=\"600\" style=\"fill:rgb(100%,100%,100%);fill-opacity:1;stroke:none;\"/>\n<path style=\"fill:none;stroke-width:1;stroke-linecap:butt;stroke-linejoin:miter;stroke:rgb(26.666667%,26.666667%,26.666667%);stroke-opacity:1;stroke-miterlimit:10;\" d=\"M 580 151.992188 L 88.550781 346.59375 \"/>\n<path style=\"fill:none;stroke-width:1;stroke-linecap:butt;stroke-linejoin:miter;stroke:rgb(26.666667%,26.666667%,26.666667%);stroke-opacity:1;stroke-miterlimit:10;\" d=\"M 580 151.992188 L 275.171875 20 \"/>\n<path style=\"fill:none;stroke-width:1;stroke-linecap:butt;stroke-linejoin:miter;stroke:rgb(26.666667%,26.666667%,26.666667%);stroke-opacity:1;stroke-miterlimit:10;\" d=\"M 580 151.992188 L 20 398.882812 \"/>\n<path style=\"fill:none;stroke-width:1;stroke-linecap:butt;stroke-linejoin:miter;stroke:rgb(26.666667%,26.666667%,26.666667%);stroke-opacity:1;stroke-miterlimit:10;\" d=\"M 88.550781 346.59375 L 390.507812 580 \"/>\n<path style=\"fill:none;stroke-width:1;stroke-linecap:butt;stroke-linejoin:miter;stroke:rgb(26.666667%,26.666667%,26.666667%);stroke-opacity:1;stroke-miterlimit:10;\" d=\"M 88.550781 346.59375 L 422.195312 520.277344 \"/>\n<path style=\"fill:none;stroke-width:1;stroke-linecap:butt;stroke-linejoin:miter;stroke:rgb(26.666667%,26.666667%,26.666667%);stroke-opacity:1;stroke-miterlimit:10;\" d=\"M 275.171875 20 L 390.507812 580 \"/>\n<path style=\"fill:none;stroke-width:1;stroke-linecap:butt;stroke-linejoin:miter;stroke:rgb(26.666667%,26.666667%,26.666667%);stroke-opacity:1;stroke-miterlimit:10;\" d=\"M 275.171875 20 L 153.617188 446.6875 \"/>\n<path style=\"fill:none;stroke-width:1;stroke-linecap:butt;stroke-linejoin:miter;stroke:rgb(26.666667%,26.666667%,26.666667%);stroke-opacity:1;stroke-miterlimit:10;\" d=\"M 390.507812 580 L 235.472656 354.570312 \"/>\n<path style=\"fill:none;stroke-width:1;stroke-linecap:butt;stroke-linejoin:miter;stroke:rgb(26.666667%,26.666667%,26.666667%);stroke-opacity:1;stroke-miterlimit:10;\" d=\"M 20 398.882812 L 422.195312 520.277344 \"/>\n<path style=\"fill:none;stroke-width:1;stroke-linecap:butt;stroke-linejoin:miter;stroke:rgb(26.666667%,26.666667%,26.666667%);stroke-opacity:1;stroke-miterlimit:10;\" d=\"M 20 398.882812 L 153.617188 446.6875 \"/>\n<path style=\"fill:none;stroke-width:1;stroke-linecap:butt;stroke-linejoin:miter;stroke:rgb(26.666667%,26.666667%,26.666667%);stroke-opacity:1;stroke-miterlimit:10;\" d=\"M 422.195312 520.277344 L 235.472656 354.570312 \"/>\n<path style=\"fill:none;stroke-width:1;stroke-linecap:butt;stroke-linejoin:miter;stroke:rgb(26.666667%,26.666667%,26.666667%);stroke-opacity:1;stroke-miterlimit:10;\" d=\"M 153.617188 446.6875 L 235.472656 354.570312 \"/>\n<path style=\"fill-rule:nonzero;fill:rgb(100%,0%,0%);fill-opacity:1;stroke-width:1;stroke-linecap:butt;stroke-linejoin:miter;stroke:rgb(0%,0%,0%);stroke-opacity:1;stroke-miterlimit:10;\" d=\"M 590 151.992188 C 590 157.515625 585.523438 161.992188 580 161.992188 C 574.476562 161.992188 570 157.515625 570 151.992188 C 570 146.46875 574.476562 141.992188 580 141.992188 C 585.523438 141.992188 590 146.46875 590 151.992188 \"/>\n<path style=\"fill-rule:nonzero;fill:rgb(100%,0%,0%);fill-opacity:1;stroke-width:1;stroke-linecap:butt;stroke-linejoin:miter;stroke:rgb(0%,0%,0%);stroke-opacity:1;stroke-miterlimit:10;\" d=\"M 98.550781 346.59375 C 98.550781 352.113281 94.074219 356.59375 88.550781 356.59375 C 83.027344 356.59375 78.550781 352.113281 78.550781 346.59375 C 78.550781 341.070312 83.027344 336.59375 88.550781 336.59375 C 94.074219 336.59375 98.550781 341.070312 98.550781 346.59375 \"/>\n<path style=\"fill-rule:nonzero;fill:rgb(100%,0%,0%);fill-opacity:1;stroke-width:1;stroke-linecap:butt;stroke-linejoin:miter;stroke:rgb(0%,0%,0%);stroke-opacity:1;stroke-miterlimit:10;\" d=\"M 285.171875 20 C 285.171875 25.523438 280.695312 30 275.171875 30 C 269.652344 30 265.171875 25.523438 265.171875 20 C 265.171875 14.476562 269.652344 10 275.171875 10 C 280.695312 10 285.171875 14.476562 285.171875 20 \"/>\n<path style=\"fill-rule:nonzero;fill:rgb(100%,0%,0%);fill-opacity:1;stroke-width:1;stroke-linecap:butt;stroke-linejoin:miter;stroke:rgb(0%,0%,0%);stroke-opacity:1;stroke-miterlimit:10;\" d=\"M 400.507812 580 C 400.507812 585.523438 396.03125 590 390.507812 590 C 384.984375 590 380.507812 585.523438 380.507812 580 C 380.507812 574.476562 384.984375 570 390.507812 570 C 396.03125 570 400.507812 574.476562 400.507812 580 \"/>\n<path style=\"fill-rule:nonzero;fill:rgb(100%,0%,0%);fill-opacity:1;stroke-width:1;stroke-linecap:butt;stroke-linejoin:miter;stroke:rgb(0%,0%,0%);stroke-opacity:1;stroke-miterlimit:10;\" d=\"M 30 398.882812 C 30 404.40625 25.523438 408.882812 20 408.882812 C 14.476562 408.882812 10 404.40625 10 398.882812 C 10 393.363281 14.476562 388.882812 20 388.882812 C 25.523438 388.882812 30 393.363281 30 398.882812 \"/>\n<path style=\"fill-rule:nonzero;fill:rgb(100%,0%,0%);fill-opacity:1;stroke-width:1;stroke-linecap:butt;stroke-linejoin:miter;stroke:rgb(0%,0%,0%);stroke-opacity:1;stroke-miterlimit:10;\" d=\"M 432.195312 520.277344 C 432.195312 525.800781 427.71875 530.277344 422.195312 530.277344 C 416.671875 530.277344 412.195312 525.800781 412.195312 520.277344 C 412.195312 514.753906 416.671875 510.277344 422.195312 510.277344 C 427.71875 510.277344 432.195312 514.753906 432.195312 520.277344 \"/>\n<path style=\"fill-rule:nonzero;fill:rgb(100%,0%,0%);fill-opacity:1;stroke-width:1;stroke-linecap:butt;stroke-linejoin:miter;stroke:rgb(0%,0%,0%);stroke-opacity:1;stroke-miterlimit:10;\" d=\"M 163.617188 446.6875 C 163.617188 452.210938 159.140625 456.6875 153.617188 456.6875 C 148.09375 456.6875 143.617188 452.210938 143.617188 446.6875 C 143.617188 441.164062 148.09375 436.6875 153.617188 436.6875 C 159.140625 436.6875 163.617188 441.164062 163.617188 446.6875 \"/>\n<path style=\"fill-rule:nonzero;fill:rgb(100%,0%,0%);fill-opacity:1;stroke-width:1;stroke-linecap:butt;stroke-linejoin:miter;stroke:rgb(0%,0%,0%);stroke-opacity:1;stroke-miterlimit:10;\" d=\"M 245.472656 354.570312 C 245.472656 360.09375 240.996094 364.570312 235.472656 364.570312 C 229.949219 364.570312 225.472656 360.09375 225.472656 354.570312 C 225.472656 349.046875 229.949219 344.570312 235.472656 344.570312 C 240.996094 344.570312 245.472656 349.046875 245.472656 354.570312 \"/>\n</g>\n</svg>\n"
          },
          "metadata": {
            "tags": [],
            "image/svg+xml": {
              "isolated": true
            }
          },
          "execution_count": 74
        }
      ]
    },
    {
      "cell_type": "code",
      "metadata": {
        "id": "BgWTzuPe71Fh",
        "outputId": "8bb2c96f-7030-4384-a95f-b963bb3c63e1",
        "colab": {
          "base_uri": "https://localhost:8080/",
          "height": 820
        }
      },
      "source": [
        "#Complexity: O(|V|)\n",
        "\n",
        "layout = grafo.layout(\"circle\")\n",
        "\n",
        "time_circle_0 = time.time()\n",
        "plot(grafo, layout = layout)\n",
        "time_circle_1 = time.time()\n",
        "\n",
        "times.append(time_circle_1 - time_circle_0)\n",
        "plot(grafo, layout = layout)"
      ],
      "execution_count": 75,
      "outputs": [
        {
          "output_type": "execute_result",
          "data": {
            "text/plain": [
              "<igraph.drawing.Plot at 0x7fe9f58ad2e8>"
            ],
            "image/svg+xml": "<?xml version=\"1.0\" encoding=\"UTF-8\"?>\n<svg xmlns=\"http://www.w3.org/2000/svg\" xmlns:xlink=\"http://www.w3.org/1999/xlink\" width=\"600pt\" height=\"600pt\" viewBox=\"0 0 600 600\" version=\"1.1\">\n<g id=\"surface169\">\n<rect x=\"0\" y=\"0\" width=\"600\" height=\"600\" style=\"fill:rgb(100%,100%,100%);fill-opacity:1;stroke:none;\"/>\n<path style=\"fill:none;stroke-width:1;stroke-linecap:butt;stroke-linejoin:miter;stroke:rgb(26.666667%,26.666667%,26.666667%);stroke-opacity:1;stroke-miterlimit:10;\" d=\"M 580 300 L 497.988281 497.988281 \"/>\n<path style=\"fill:none;stroke-width:1;stroke-linecap:butt;stroke-linejoin:miter;stroke:rgb(26.666667%,26.666667%,26.666667%);stroke-opacity:1;stroke-miterlimit:10;\" d=\"M 580 300 L 300 580 \"/>\n<path style=\"fill:none;stroke-width:1;stroke-linecap:butt;stroke-linejoin:miter;stroke:rgb(26.666667%,26.666667%,26.666667%);stroke-opacity:1;stroke-miterlimit:10;\" d=\"M 580 300 L 20 300 \"/>\n<path style=\"fill:none;stroke-width:1;stroke-linecap:butt;stroke-linejoin:miter;stroke:rgb(26.666667%,26.666667%,26.666667%);stroke-opacity:1;stroke-miterlimit:10;\" d=\"M 497.988281 497.988281 L 102.011719 497.988281 \"/>\n<path style=\"fill:none;stroke-width:1;stroke-linecap:butt;stroke-linejoin:miter;stroke:rgb(26.666667%,26.666667%,26.666667%);stroke-opacity:1;stroke-miterlimit:10;\" d=\"M 497.988281 497.988281 L 102.011719 102.011719 \"/>\n<path style=\"fill:none;stroke-width:1;stroke-linecap:butt;stroke-linejoin:miter;stroke:rgb(26.666667%,26.666667%,26.666667%);stroke-opacity:1;stroke-miterlimit:10;\" d=\"M 300 580 L 102.011719 497.988281 \"/>\n<path style=\"fill:none;stroke-width:1;stroke-linecap:butt;stroke-linejoin:miter;stroke:rgb(26.666667%,26.666667%,26.666667%);stroke-opacity:1;stroke-miterlimit:10;\" d=\"M 300 580 L 300 20 \"/>\n<path style=\"fill:none;stroke-width:1;stroke-linecap:butt;stroke-linejoin:miter;stroke:rgb(26.666667%,26.666667%,26.666667%);stroke-opacity:1;stroke-miterlimit:10;\" d=\"M 102.011719 497.988281 L 497.988281 102.011719 \"/>\n<path style=\"fill:none;stroke-width:1;stroke-linecap:butt;stroke-linejoin:miter;stroke:rgb(26.666667%,26.666667%,26.666667%);stroke-opacity:1;stroke-miterlimit:10;\" d=\"M 20 300 L 102.011719 102.011719 \"/>\n<path style=\"fill:none;stroke-width:1;stroke-linecap:butt;stroke-linejoin:miter;stroke:rgb(26.666667%,26.666667%,26.666667%);stroke-opacity:1;stroke-miterlimit:10;\" d=\"M 20 300 L 300 20 \"/>\n<path style=\"fill:none;stroke-width:1;stroke-linecap:butt;stroke-linejoin:miter;stroke:rgb(26.666667%,26.666667%,26.666667%);stroke-opacity:1;stroke-miterlimit:10;\" d=\"M 102.011719 102.011719 L 497.988281 102.011719 \"/>\n<path style=\"fill:none;stroke-width:1;stroke-linecap:butt;stroke-linejoin:miter;stroke:rgb(26.666667%,26.666667%,26.666667%);stroke-opacity:1;stroke-miterlimit:10;\" d=\"M 300 20 L 497.988281 102.011719 \"/>\n<path style=\"fill-rule:nonzero;fill:rgb(100%,0%,0%);fill-opacity:1;stroke-width:1;stroke-linecap:butt;stroke-linejoin:miter;stroke:rgb(0%,0%,0%);stroke-opacity:1;stroke-miterlimit:10;\" d=\"M 590 300 C 590 305.523438 585.523438 310 580 310 C 574.476562 310 570 305.523438 570 300 C 570 294.476562 574.476562 290 580 290 C 585.523438 290 590 294.476562 590 300 \"/>\n<path style=\"fill-rule:nonzero;fill:rgb(100%,0%,0%);fill-opacity:1;stroke-width:1;stroke-linecap:butt;stroke-linejoin:miter;stroke:rgb(0%,0%,0%);stroke-opacity:1;stroke-miterlimit:10;\" d=\"M 507.988281 497.988281 C 507.988281 503.511719 503.511719 507.988281 497.988281 507.988281 C 492.46875 507.988281 487.988281 503.511719 487.988281 497.988281 C 487.988281 492.46875 492.46875 487.988281 497.988281 487.988281 C 503.511719 487.988281 507.988281 492.46875 507.988281 497.988281 \"/>\n<path style=\"fill-rule:nonzero;fill:rgb(100%,0%,0%);fill-opacity:1;stroke-width:1;stroke-linecap:butt;stroke-linejoin:miter;stroke:rgb(0%,0%,0%);stroke-opacity:1;stroke-miterlimit:10;\" d=\"M 310 580 C 310 585.523438 305.523438 590 300 590 C 294.476562 590 290 585.523438 290 580 C 290 574.476562 294.476562 570 300 570 C 305.523438 570 310 574.476562 310 580 \"/>\n<path style=\"fill-rule:nonzero;fill:rgb(100%,0%,0%);fill-opacity:1;stroke-width:1;stroke-linecap:butt;stroke-linejoin:miter;stroke:rgb(0%,0%,0%);stroke-opacity:1;stroke-miterlimit:10;\" d=\"M 112.011719 497.988281 C 112.011719 503.511719 107.53125 507.988281 102.011719 507.988281 C 96.488281 507.988281 92.011719 503.511719 92.011719 497.988281 C 92.011719 492.46875 96.488281 487.988281 102.011719 487.988281 C 107.53125 487.988281 112.011719 492.46875 112.011719 497.988281 \"/>\n<path style=\"fill-rule:nonzero;fill:rgb(100%,0%,0%);fill-opacity:1;stroke-width:1;stroke-linecap:butt;stroke-linejoin:miter;stroke:rgb(0%,0%,0%);stroke-opacity:1;stroke-miterlimit:10;\" d=\"M 30 300 C 30 305.523438 25.523438 310 20 310 C 14.476562 310 10 305.523438 10 300 C 10 294.476562 14.476562 290 20 290 C 25.523438 290 30 294.476562 30 300 \"/>\n<path style=\"fill-rule:nonzero;fill:rgb(100%,0%,0%);fill-opacity:1;stroke-width:1;stroke-linecap:butt;stroke-linejoin:miter;stroke:rgb(0%,0%,0%);stroke-opacity:1;stroke-miterlimit:10;\" d=\"M 112.011719 102.011719 C 112.011719 107.53125 107.53125 112.011719 102.011719 112.011719 C 96.488281 112.011719 92.011719 107.53125 92.011719 102.011719 C 92.011719 96.488281 96.488281 92.011719 102.011719 92.011719 C 107.53125 92.011719 112.011719 96.488281 112.011719 102.011719 \"/>\n<path style=\"fill-rule:nonzero;fill:rgb(100%,0%,0%);fill-opacity:1;stroke-width:1;stroke-linecap:butt;stroke-linejoin:miter;stroke:rgb(0%,0%,0%);stroke-opacity:1;stroke-miterlimit:10;\" d=\"M 310 20 C 310 25.523438 305.523438 30 300 30 C 294.476562 30 290 25.523438 290 20 C 290 14.476562 294.476562 10 300 10 C 305.523438 10 310 14.476562 310 20 \"/>\n<path style=\"fill-rule:nonzero;fill:rgb(100%,0%,0%);fill-opacity:1;stroke-width:1;stroke-linecap:butt;stroke-linejoin:miter;stroke:rgb(0%,0%,0%);stroke-opacity:1;stroke-miterlimit:10;\" d=\"M 507.988281 102.011719 C 507.988281 107.53125 503.511719 112.011719 497.988281 112.011719 C 492.46875 112.011719 487.988281 107.53125 487.988281 102.011719 C 487.988281 96.488281 492.46875 92.011719 497.988281 92.011719 C 503.511719 92.011719 507.988281 96.488281 507.988281 102.011719 \"/>\n</g>\n</svg>\n"
          },
          "metadata": {
            "tags": [],
            "image/svg+xml": {
              "isolated": true
            }
          },
          "execution_count": 75
        }
      ]
    },
    {
      "cell_type": "code",
      "metadata": {
        "id": "GcL-E5QO740J",
        "outputId": "87966108-a788-4d35-80ff-448abbf61df8",
        "colab": {
          "base_uri": "https://localhost:8080/",
          "height": 820
        }
      },
      "source": [
        "#Complexity: O(|V|)\n",
        "\n",
        "layout = grafo.layout(\"star\")\n",
        "time_star_0 = time.time()\n",
        "plot(grafo, layout = layout)\n",
        "time_star_1 = time.time()\n",
        "\n",
        "times.append(time_star_1 - time_star_0)\n",
        "plot(grafo, layout = layout)"
      ],
      "execution_count": 76,
      "outputs": [
        {
          "output_type": "execute_result",
          "data": {
            "text/plain": [
              "<igraph.drawing.Plot at 0x7fe9f58ad2b0>"
            ],
            "image/svg+xml": "<?xml version=\"1.0\" encoding=\"UTF-8\"?>\n<svg xmlns=\"http://www.w3.org/2000/svg\" xmlns:xlink=\"http://www.w3.org/1999/xlink\" width=\"600pt\" height=\"600pt\" viewBox=\"0 0 600 600\" version=\"1.1\">\n<g id=\"surface176\">\n<rect x=\"0\" y=\"0\" width=\"600\" height=\"600\" style=\"fill:rgb(100%,100%,100%);fill-opacity:1;stroke:none;\"/>\n<path style=\"fill:none;stroke-width:1;stroke-linecap:butt;stroke-linejoin:miter;stroke:rgb(26.666667%,26.666667%,26.666667%);stroke-opacity:1;stroke-miterlimit:10;\" d=\"M 285.414062 300 L 580 300 \"/>\n<path style=\"fill:none;stroke-width:1;stroke-linecap:butt;stroke-linejoin:miter;stroke:rgb(26.666667%,26.666667%,26.666667%);stroke-opacity:1;stroke-miterlimit:10;\" d=\"M 285.414062 300 L 469.085938 524.542969 \"/>\n<path style=\"fill:none;stroke-width:1;stroke-linecap:butt;stroke-linejoin:miter;stroke:rgb(26.666667%,26.666667%,26.666667%);stroke-opacity:1;stroke-miterlimit:10;\" d=\"M 285.414062 300 L 20 424.613281 \"/>\n<path style=\"fill:none;stroke-width:1;stroke-linecap:butt;stroke-linejoin:miter;stroke:rgb(26.666667%,26.666667%,26.666667%);stroke-opacity:1;stroke-miterlimit:10;\" d=\"M 580 300 L 219.863281 580 \"/>\n<path style=\"fill:none;stroke-width:1;stroke-linecap:butt;stroke-linejoin:miter;stroke:rgb(26.666667%,26.666667%,26.666667%);stroke-opacity:1;stroke-miterlimit:10;\" d=\"M 580 300 L 20 175.386719 \"/>\n<path style=\"fill:none;stroke-width:1;stroke-linecap:butt;stroke-linejoin:miter;stroke:rgb(26.666667%,26.666667%,26.666667%);stroke-opacity:1;stroke-miterlimit:10;\" d=\"M 469.085938 524.542969 L 219.863281 580 \"/>\n<path style=\"fill:none;stroke-width:1;stroke-linecap:butt;stroke-linejoin:miter;stroke:rgb(26.666667%,26.666667%,26.666667%);stroke-opacity:1;stroke-miterlimit:10;\" d=\"M 469.085938 524.542969 L 219.863281 20 \"/>\n<path style=\"fill:none;stroke-width:1;stroke-linecap:butt;stroke-linejoin:miter;stroke:rgb(26.666667%,26.666667%,26.666667%);stroke-opacity:1;stroke-miterlimit:10;\" d=\"M 219.863281 580 L 469.085938 75.457031 \"/>\n<path style=\"fill:none;stroke-width:1;stroke-linecap:butt;stroke-linejoin:miter;stroke:rgb(26.666667%,26.666667%,26.666667%);stroke-opacity:1;stroke-miterlimit:10;\" d=\"M 20 424.613281 L 20 175.386719 \"/>\n<path style=\"fill:none;stroke-width:1;stroke-linecap:butt;stroke-linejoin:miter;stroke:rgb(26.666667%,26.666667%,26.666667%);stroke-opacity:1;stroke-miterlimit:10;\" d=\"M 20 424.613281 L 219.863281 20 \"/>\n<path style=\"fill:none;stroke-width:1;stroke-linecap:butt;stroke-linejoin:miter;stroke:rgb(26.666667%,26.666667%,26.666667%);stroke-opacity:1;stroke-miterlimit:10;\" d=\"M 20 175.386719 L 469.085938 75.457031 \"/>\n<path style=\"fill:none;stroke-width:1;stroke-linecap:butt;stroke-linejoin:miter;stroke:rgb(26.666667%,26.666667%,26.666667%);stroke-opacity:1;stroke-miterlimit:10;\" d=\"M 219.863281 20 L 469.085938 75.457031 \"/>\n<path style=\"fill-rule:nonzero;fill:rgb(100%,0%,0%);fill-opacity:1;stroke-width:1;stroke-linecap:butt;stroke-linejoin:miter;stroke:rgb(0%,0%,0%);stroke-opacity:1;stroke-miterlimit:10;\" d=\"M 295.414062 300 C 295.414062 305.523438 290.9375 310 285.414062 310 C 279.890625 310 275.414062 305.523438 275.414062 300 C 275.414062 294.476562 279.890625 290 285.414062 290 C 290.9375 290 295.414062 294.476562 295.414062 300 \"/>\n<path style=\"fill-rule:nonzero;fill:rgb(100%,0%,0%);fill-opacity:1;stroke-width:1;stroke-linecap:butt;stroke-linejoin:miter;stroke:rgb(0%,0%,0%);stroke-opacity:1;stroke-miterlimit:10;\" d=\"M 590 300 C 590 305.523438 585.523438 310 580 310 C 574.476562 310 570 305.523438 570 300 C 570 294.476562 574.476562 290 580 290 C 585.523438 290 590 294.476562 590 300 \"/>\n<path style=\"fill-rule:nonzero;fill:rgb(100%,0%,0%);fill-opacity:1;stroke-width:1;stroke-linecap:butt;stroke-linejoin:miter;stroke:rgb(0%,0%,0%);stroke-opacity:1;stroke-miterlimit:10;\" d=\"M 479.085938 524.542969 C 479.085938 530.066406 474.609375 534.542969 469.085938 534.542969 C 463.5625 534.542969 459.085938 530.066406 459.085938 524.542969 C 459.085938 519.019531 463.5625 514.542969 469.085938 514.542969 C 474.609375 514.542969 479.085938 519.019531 479.085938 524.542969 \"/>\n<path style=\"fill-rule:nonzero;fill:rgb(100%,0%,0%);fill-opacity:1;stroke-width:1;stroke-linecap:butt;stroke-linejoin:miter;stroke:rgb(0%,0%,0%);stroke-opacity:1;stroke-miterlimit:10;\" d=\"M 229.863281 580 C 229.863281 585.523438 225.382812 590 219.863281 590 C 214.339844 590 209.863281 585.523438 209.863281 580 C 209.863281 574.476562 214.339844 570 219.863281 570 C 225.382812 570 229.863281 574.476562 229.863281 580 \"/>\n<path style=\"fill-rule:nonzero;fill:rgb(100%,0%,0%);fill-opacity:1;stroke-width:1;stroke-linecap:butt;stroke-linejoin:miter;stroke:rgb(0%,0%,0%);stroke-opacity:1;stroke-miterlimit:10;\" d=\"M 30 424.613281 C 30 430.132812 25.523438 434.613281 20 434.613281 C 14.476562 434.613281 10 430.132812 10 424.613281 C 10 419.089844 14.476562 414.613281 20 414.613281 C 25.523438 414.613281 30 419.089844 30 424.613281 \"/>\n<path style=\"fill-rule:nonzero;fill:rgb(100%,0%,0%);fill-opacity:1;stroke-width:1;stroke-linecap:butt;stroke-linejoin:miter;stroke:rgb(0%,0%,0%);stroke-opacity:1;stroke-miterlimit:10;\" d=\"M 30 175.386719 C 30 180.910156 25.523438 185.386719 20 185.386719 C 14.476562 185.386719 10 180.910156 10 175.386719 C 10 169.867188 14.476562 165.386719 20 165.386719 C 25.523438 165.386719 30 169.867188 30 175.386719 \"/>\n<path style=\"fill-rule:nonzero;fill:rgb(100%,0%,0%);fill-opacity:1;stroke-width:1;stroke-linecap:butt;stroke-linejoin:miter;stroke:rgb(0%,0%,0%);stroke-opacity:1;stroke-miterlimit:10;\" d=\"M 229.863281 20 C 229.863281 25.523438 225.382812 30 219.863281 30 C 214.339844 30 209.863281 25.523438 209.863281 20 C 209.863281 14.476562 214.339844 10 219.863281 10 C 225.382812 10 229.863281 14.476562 229.863281 20 \"/>\n<path style=\"fill-rule:nonzero;fill:rgb(100%,0%,0%);fill-opacity:1;stroke-width:1;stroke-linecap:butt;stroke-linejoin:miter;stroke:rgb(0%,0%,0%);stroke-opacity:1;stroke-miterlimit:10;\" d=\"M 479.085938 75.457031 C 479.085938 80.980469 474.609375 85.457031 469.085938 85.457031 C 463.5625 85.457031 459.085938 80.980469 459.085938 75.457031 C 459.085938 69.933594 463.5625 65.457031 469.085938 65.457031 C 474.609375 65.457031 479.085938 69.933594 479.085938 75.457031 \"/>\n</g>\n</svg>\n"
          },
          "metadata": {
            "tags": [],
            "image/svg+xml": {
              "isolated": true
            }
          },
          "execution_count": 76
        }
      ]
    },
    {
      "cell_type": "code",
      "metadata": {
        "id": "Fooknzo177E4",
        "outputId": "d6a83158-93ec-4fde-d2e5-32a17902582b",
        "colab": {
          "base_uri": "https://localhost:8080/",
          "height": 820
        }
      },
      "source": [
        "#Complexity: O(|V|)\n",
        "\n",
        "layout = grafo.layout(\"grid\")\n",
        "time_grid_0 = time.time()\n",
        "plot(grafo, layout = layout)\n",
        "time_grid_1 = time.time()\n",
        "\n",
        "times.append(time_grid_1 - time_grid_0)\n",
        "plot(grafo, layout = layout)"
      ],
      "execution_count": 77,
      "outputs": [
        {
          "output_type": "execute_result",
          "data": {
            "text/plain": [
              "<igraph.drawing.Plot at 0x7fe9f58ad550>"
            ],
            "image/svg+xml": "<?xml version=\"1.0\" encoding=\"UTF-8\"?>\n<svg xmlns=\"http://www.w3.org/2000/svg\" xmlns:xlink=\"http://www.w3.org/1999/xlink\" width=\"600pt\" height=\"600pt\" viewBox=\"0 0 600 600\" version=\"1.1\">\n<g id=\"surface183\">\n<rect x=\"0\" y=\"0\" width=\"600\" height=\"600\" style=\"fill:rgb(100%,100%,100%);fill-opacity:1;stroke:none;\"/>\n<path style=\"fill:none;stroke-width:1;stroke-linecap:butt;stroke-linejoin:miter;stroke:rgb(26.666667%,26.666667%,26.666667%);stroke-opacity:1;stroke-miterlimit:10;\" d=\"M 20 20 L 300 20 \"/>\n<path style=\"fill:none;stroke-width:1;stroke-linecap:butt;stroke-linejoin:miter;stroke:rgb(26.666667%,26.666667%,26.666667%);stroke-opacity:1;stroke-miterlimit:10;\" d=\"M 20 20 L 580 20 \"/>\n<path style=\"fill:none;stroke-width:1;stroke-linecap:butt;stroke-linejoin:miter;stroke:rgb(26.666667%,26.666667%,26.666667%);stroke-opacity:1;stroke-miterlimit:10;\" d=\"M 20 20 L 300 300 \"/>\n<path style=\"fill:none;stroke-width:1;stroke-linecap:butt;stroke-linejoin:miter;stroke:rgb(26.666667%,26.666667%,26.666667%);stroke-opacity:1;stroke-miterlimit:10;\" d=\"M 300 20 L 20 300 \"/>\n<path style=\"fill:none;stroke-width:1;stroke-linecap:butt;stroke-linejoin:miter;stroke:rgb(26.666667%,26.666667%,26.666667%);stroke-opacity:1;stroke-miterlimit:10;\" d=\"M 300 20 L 580 300 \"/>\n<path style=\"fill:none;stroke-width:1;stroke-linecap:butt;stroke-linejoin:miter;stroke:rgb(26.666667%,26.666667%,26.666667%);stroke-opacity:1;stroke-miterlimit:10;\" d=\"M 580 20 L 20 300 \"/>\n<path style=\"fill:none;stroke-width:1;stroke-linecap:butt;stroke-linejoin:miter;stroke:rgb(26.666667%,26.666667%,26.666667%);stroke-opacity:1;stroke-miterlimit:10;\" d=\"M 580 20 L 20 580 \"/>\n<path style=\"fill:none;stroke-width:1;stroke-linecap:butt;stroke-linejoin:miter;stroke:rgb(26.666667%,26.666667%,26.666667%);stroke-opacity:1;stroke-miterlimit:10;\" d=\"M 20 300 L 300 580 \"/>\n<path style=\"fill:none;stroke-width:1;stroke-linecap:butt;stroke-linejoin:miter;stroke:rgb(26.666667%,26.666667%,26.666667%);stroke-opacity:1;stroke-miterlimit:10;\" d=\"M 300 300 L 580 300 \"/>\n<path style=\"fill:none;stroke-width:1;stroke-linecap:butt;stroke-linejoin:miter;stroke:rgb(26.666667%,26.666667%,26.666667%);stroke-opacity:1;stroke-miterlimit:10;\" d=\"M 300 300 L 20 580 \"/>\n<path style=\"fill:none;stroke-width:1;stroke-linecap:butt;stroke-linejoin:miter;stroke:rgb(26.666667%,26.666667%,26.666667%);stroke-opacity:1;stroke-miterlimit:10;\" d=\"M 580 300 L 300 580 \"/>\n<path style=\"fill:none;stroke-width:1;stroke-linecap:butt;stroke-linejoin:miter;stroke:rgb(26.666667%,26.666667%,26.666667%);stroke-opacity:1;stroke-miterlimit:10;\" d=\"M 20 580 L 300 580 \"/>\n<path style=\"fill-rule:nonzero;fill:rgb(100%,0%,0%);fill-opacity:1;stroke-width:1;stroke-linecap:butt;stroke-linejoin:miter;stroke:rgb(0%,0%,0%);stroke-opacity:1;stroke-miterlimit:10;\" d=\"M 30 20 C 30 25.523438 25.523438 30 20 30 C 14.476562 30 10 25.523438 10 20 C 10 14.476562 14.476562 10 20 10 C 25.523438 10 30 14.476562 30 20 \"/>\n<path style=\"fill-rule:nonzero;fill:rgb(100%,0%,0%);fill-opacity:1;stroke-width:1;stroke-linecap:butt;stroke-linejoin:miter;stroke:rgb(0%,0%,0%);stroke-opacity:1;stroke-miterlimit:10;\" d=\"M 310 20 C 310 25.523438 305.523438 30 300 30 C 294.476562 30 290 25.523438 290 20 C 290 14.476562 294.476562 10 300 10 C 305.523438 10 310 14.476562 310 20 \"/>\n<path style=\"fill-rule:nonzero;fill:rgb(100%,0%,0%);fill-opacity:1;stroke-width:1;stroke-linecap:butt;stroke-linejoin:miter;stroke:rgb(0%,0%,0%);stroke-opacity:1;stroke-miterlimit:10;\" d=\"M 590 20 C 590 25.523438 585.523438 30 580 30 C 574.476562 30 570 25.523438 570 20 C 570 14.476562 574.476562 10 580 10 C 585.523438 10 590 14.476562 590 20 \"/>\n<path style=\"fill-rule:nonzero;fill:rgb(100%,0%,0%);fill-opacity:1;stroke-width:1;stroke-linecap:butt;stroke-linejoin:miter;stroke:rgb(0%,0%,0%);stroke-opacity:1;stroke-miterlimit:10;\" d=\"M 30 300 C 30 305.523438 25.523438 310 20 310 C 14.476562 310 10 305.523438 10 300 C 10 294.476562 14.476562 290 20 290 C 25.523438 290 30 294.476562 30 300 \"/>\n<path style=\"fill-rule:nonzero;fill:rgb(100%,0%,0%);fill-opacity:1;stroke-width:1;stroke-linecap:butt;stroke-linejoin:miter;stroke:rgb(0%,0%,0%);stroke-opacity:1;stroke-miterlimit:10;\" d=\"M 310 300 C 310 305.523438 305.523438 310 300 310 C 294.476562 310 290 305.523438 290 300 C 290 294.476562 294.476562 290 300 290 C 305.523438 290 310 294.476562 310 300 \"/>\n<path style=\"fill-rule:nonzero;fill:rgb(100%,0%,0%);fill-opacity:1;stroke-width:1;stroke-linecap:butt;stroke-linejoin:miter;stroke:rgb(0%,0%,0%);stroke-opacity:1;stroke-miterlimit:10;\" d=\"M 590 300 C 590 305.523438 585.523438 310 580 310 C 574.476562 310 570 305.523438 570 300 C 570 294.476562 574.476562 290 580 290 C 585.523438 290 590 294.476562 590 300 \"/>\n<path style=\"fill-rule:nonzero;fill:rgb(100%,0%,0%);fill-opacity:1;stroke-width:1;stroke-linecap:butt;stroke-linejoin:miter;stroke:rgb(0%,0%,0%);stroke-opacity:1;stroke-miterlimit:10;\" d=\"M 30 580 C 30 585.523438 25.523438 590 20 590 C 14.476562 590 10 585.523438 10 580 C 10 574.476562 14.476562 570 20 570 C 25.523438 570 30 574.476562 30 580 \"/>\n<path style=\"fill-rule:nonzero;fill:rgb(100%,0%,0%);fill-opacity:1;stroke-width:1;stroke-linecap:butt;stroke-linejoin:miter;stroke:rgb(0%,0%,0%);stroke-opacity:1;stroke-miterlimit:10;\" d=\"M 310 580 C 310 585.523438 305.523438 590 300 590 C 294.476562 590 290 585.523438 290 580 C 290 574.476562 294.476562 570 300 570 C 305.523438 570 310 574.476562 310 580 \"/>\n</g>\n</svg>\n"
          },
          "metadata": {
            "tags": [],
            "image/svg+xml": {
              "isolated": true
            }
          },
          "execution_count": 77
        }
      ]
    },
    {
      "cell_type": "code",
      "metadata": {
        "id": "p_JAxvH97_ap",
        "outputId": "9c0d022d-0abc-4a48-9758-0c211254b333",
        "colab": {
          "base_uri": "https://localhost:8080/",
          "height": 820
        }
      },
      "source": [
        "#Complexity: O(n(|V|^2|E|))\n",
        "\n",
        "layout = grafo.layout(\"graphopt\")\n",
        "time_graphopt_0 = time.time()\n",
        "plot(grafo, layout = layout)\n",
        "time_graphopt_1 = time.time()\n",
        "\n",
        "times.append(time_graphopt_1 - time_graphopt_0)\n",
        "plot(grafo, layout = layout)"
      ],
      "execution_count": 78,
      "outputs": [
        {
          "output_type": "execute_result",
          "data": {
            "text/plain": [
              "<igraph.drawing.Plot at 0x7fe9f58adc18>"
            ],
            "image/svg+xml": "<?xml version=\"1.0\" encoding=\"UTF-8\"?>\n<svg xmlns=\"http://www.w3.org/2000/svg\" xmlns:xlink=\"http://www.w3.org/1999/xlink\" width=\"600pt\" height=\"600pt\" viewBox=\"0 0 600 600\" version=\"1.1\">\n<g id=\"surface190\">\n<rect x=\"0\" y=\"0\" width=\"600\" height=\"600\" style=\"fill:rgb(100%,100%,100%);fill-opacity:1;stroke:none;\"/>\n<path style=\"fill:none;stroke-width:1;stroke-linecap:butt;stroke-linejoin:miter;stroke:rgb(26.666667%,26.666667%,26.666667%);stroke-opacity:1;stroke-miterlimit:10;\" d=\"M 84.992188 34.339844 L 20 372.316406 \"/>\n<path style=\"fill:none;stroke-width:1;stroke-linecap:butt;stroke-linejoin:miter;stroke:rgb(26.666667%,26.666667%,26.666667%);stroke-opacity:1;stroke-miterlimit:10;\" d=\"M 84.992188 34.339844 L 232.328125 216.386719 \"/>\n<path style=\"fill:none;stroke-width:1;stroke-linecap:butt;stroke-linejoin:miter;stroke:rgb(26.666667%,26.666667%,26.666667%);stroke-opacity:1;stroke-miterlimit:10;\" d=\"M 84.992188 34.339844 L 411.914062 20 \"/>\n<path style=\"fill:none;stroke-width:1;stroke-linecap:butt;stroke-linejoin:miter;stroke:rgb(26.666667%,26.666667%,26.666667%);stroke-opacity:1;stroke-miterlimit:10;\" d=\"M 20 372.316406 L 188.085938 580 \"/>\n<path style=\"fill:none;stroke-width:1;stroke-linecap:butt;stroke-linejoin:miter;stroke:rgb(26.666667%,26.666667%,26.666667%);stroke-opacity:1;stroke-miterlimit:10;\" d=\"M 20 372.316406 L 367.671875 383.613281 \"/>\n<path style=\"fill:none;stroke-width:1;stroke-linecap:butt;stroke-linejoin:miter;stroke:rgb(26.666667%,26.666667%,26.666667%);stroke-opacity:1;stroke-miterlimit:10;\" d=\"M 232.328125 216.386719 L 188.085938 580 \"/>\n<path style=\"fill:none;stroke-width:1;stroke-linecap:butt;stroke-linejoin:miter;stroke:rgb(26.666667%,26.666667%,26.666667%);stroke-opacity:1;stroke-miterlimit:10;\" d=\"M 232.328125 216.386719 L 580 227.683594 \"/>\n<path style=\"fill:none;stroke-width:1;stroke-linecap:butt;stroke-linejoin:miter;stroke:rgb(26.666667%,26.666667%,26.666667%);stroke-opacity:1;stroke-miterlimit:10;\" d=\"M 188.085938 580 L 515.007812 565.660156 \"/>\n<path style=\"fill:none;stroke-width:1;stroke-linecap:butt;stroke-linejoin:miter;stroke:rgb(26.666667%,26.666667%,26.666667%);stroke-opacity:1;stroke-miterlimit:10;\" d=\"M 411.914062 20 L 367.671875 383.613281 \"/>\n<path style=\"fill:none;stroke-width:1;stroke-linecap:butt;stroke-linejoin:miter;stroke:rgb(26.666667%,26.666667%,26.666667%);stroke-opacity:1;stroke-miterlimit:10;\" d=\"M 411.914062 20 L 580 227.683594 \"/>\n<path style=\"fill:none;stroke-width:1;stroke-linecap:butt;stroke-linejoin:miter;stroke:rgb(26.666667%,26.666667%,26.666667%);stroke-opacity:1;stroke-miterlimit:10;\" d=\"M 367.671875 383.613281 L 515.007812 565.660156 \"/>\n<path style=\"fill:none;stroke-width:1;stroke-linecap:butt;stroke-linejoin:miter;stroke:rgb(26.666667%,26.666667%,26.666667%);stroke-opacity:1;stroke-miterlimit:10;\" d=\"M 580 227.683594 L 515.007812 565.660156 \"/>\n<path style=\"fill-rule:nonzero;fill:rgb(100%,0%,0%);fill-opacity:1;stroke-width:1;stroke-linecap:butt;stroke-linejoin:miter;stroke:rgb(0%,0%,0%);stroke-opacity:1;stroke-miterlimit:10;\" d=\"M 94.992188 34.339844 C 94.992188 39.863281 90.515625 44.339844 84.992188 44.339844 C 79.46875 44.339844 74.992188 39.863281 74.992188 34.339844 C 74.992188 28.816406 79.46875 24.339844 84.992188 24.339844 C 90.515625 24.339844 94.992188 28.816406 94.992188 34.339844 \"/>\n<path style=\"fill-rule:nonzero;fill:rgb(100%,0%,0%);fill-opacity:1;stroke-width:1;stroke-linecap:butt;stroke-linejoin:miter;stroke:rgb(0%,0%,0%);stroke-opacity:1;stroke-miterlimit:10;\" d=\"M 30 372.316406 C 30 377.839844 25.523438 382.316406 20 382.316406 C 14.476562 382.316406 10 377.839844 10 372.316406 C 10 366.796875 14.476562 362.316406 20 362.316406 C 25.523438 362.316406 30 366.796875 30 372.316406 \"/>\n<path style=\"fill-rule:nonzero;fill:rgb(100%,0%,0%);fill-opacity:1;stroke-width:1;stroke-linecap:butt;stroke-linejoin:miter;stroke:rgb(0%,0%,0%);stroke-opacity:1;stroke-miterlimit:10;\" d=\"M 242.328125 216.386719 C 242.328125 221.910156 237.851562 226.386719 232.328125 226.386719 C 226.804688 226.386719 222.328125 221.910156 222.328125 216.386719 C 222.328125 210.863281 226.804688 206.386719 232.328125 206.386719 C 237.851562 206.386719 242.328125 210.863281 242.328125 216.386719 \"/>\n<path style=\"fill-rule:nonzero;fill:rgb(100%,0%,0%);fill-opacity:1;stroke-width:1;stroke-linecap:butt;stroke-linejoin:miter;stroke:rgb(0%,0%,0%);stroke-opacity:1;stroke-miterlimit:10;\" d=\"M 198.085938 580 C 198.085938 585.523438 193.609375 590 188.085938 590 C 182.5625 590 178.085938 585.523438 178.085938 580 C 178.085938 574.476562 182.5625 570 188.085938 570 C 193.609375 570 198.085938 574.476562 198.085938 580 \"/>\n<path style=\"fill-rule:nonzero;fill:rgb(100%,0%,0%);fill-opacity:1;stroke-width:1;stroke-linecap:butt;stroke-linejoin:miter;stroke:rgb(0%,0%,0%);stroke-opacity:1;stroke-miterlimit:10;\" d=\"M 421.914062 20 C 421.914062 25.523438 417.4375 30 411.914062 30 C 406.390625 30 401.914062 25.523438 401.914062 20 C 401.914062 14.476562 406.390625 10 411.914062 10 C 417.4375 10 421.914062 14.476562 421.914062 20 \"/>\n<path style=\"fill-rule:nonzero;fill:rgb(100%,0%,0%);fill-opacity:1;stroke-width:1;stroke-linecap:butt;stroke-linejoin:miter;stroke:rgb(0%,0%,0%);stroke-opacity:1;stroke-miterlimit:10;\" d=\"M 377.671875 383.613281 C 377.671875 389.136719 373.195312 393.613281 367.671875 393.613281 C 362.148438 393.613281 357.671875 389.136719 357.671875 383.613281 C 357.671875 378.089844 362.148438 373.613281 367.671875 373.613281 C 373.195312 373.613281 377.671875 378.089844 377.671875 383.613281 \"/>\n<path style=\"fill-rule:nonzero;fill:rgb(100%,0%,0%);fill-opacity:1;stroke-width:1;stroke-linecap:butt;stroke-linejoin:miter;stroke:rgb(0%,0%,0%);stroke-opacity:1;stroke-miterlimit:10;\" d=\"M 590 227.683594 C 590 233.203125 585.523438 237.683594 580 237.683594 C 574.476562 237.683594 570 233.203125 570 227.683594 C 570 222.160156 574.476562 217.683594 580 217.683594 C 585.523438 217.683594 590 222.160156 590 227.683594 \"/>\n<path style=\"fill-rule:nonzero;fill:rgb(100%,0%,0%);fill-opacity:1;stroke-width:1;stroke-linecap:butt;stroke-linejoin:miter;stroke:rgb(0%,0%,0%);stroke-opacity:1;stroke-miterlimit:10;\" d=\"M 525.007812 565.660156 C 525.007812 571.183594 520.53125 575.660156 515.007812 575.660156 C 509.484375 575.660156 505.007812 571.183594 505.007812 565.660156 C 505.007812 560.136719 509.484375 555.660156 515.007812 555.660156 C 520.53125 555.660156 525.007812 560.136719 525.007812 565.660156 \"/>\n</g>\n</svg>\n"
          },
          "metadata": {
            "tags": [],
            "image/svg+xml": {
              "isolated": true
            }
          },
          "execution_count": 78
        }
      ]
    },
    {
      "cell_type": "code",
      "metadata": {
        "id": "wkZ1fSZV8FAZ",
        "outputId": "0296a00b-53f4-473d-bf29-bb488900d8ac",
        "colab": {
          "base_uri": "https://localhost:8080/",
          "height": 820
        }
      },
      "source": [
        "layout = grafo.layout(\"fr\")\n",
        "time_fr_0 = time.time()\n",
        "plot(grafo, layout = layout)\n",
        "time_fr_1 = time.time()\n",
        "\n",
        "times.append(time_fr_1 - time_fr_0)\n",
        "plot(grafo, layout = layout)"
      ],
      "execution_count": 79,
      "outputs": [
        {
          "output_type": "execute_result",
          "data": {
            "text/plain": [
              "<igraph.drawing.Plot at 0x7fe9f58ad668>"
            ],
            "image/svg+xml": "<?xml version=\"1.0\" encoding=\"UTF-8\"?>\n<svg xmlns=\"http://www.w3.org/2000/svg\" xmlns:xlink=\"http://www.w3.org/1999/xlink\" width=\"600pt\" height=\"600pt\" viewBox=\"0 0 600 600\" version=\"1.1\">\n<g id=\"surface197\">\n<rect x=\"0\" y=\"0\" width=\"600\" height=\"600\" style=\"fill:rgb(100%,100%,100%);fill-opacity:1;stroke:none;\"/>\n<path style=\"fill:none;stroke-width:1;stroke-linecap:butt;stroke-linejoin:miter;stroke:rgb(26.666667%,26.666667%,26.666667%);stroke-opacity:1;stroke-miterlimit:10;\" d=\"M 369.625 287.910156 L 154.804688 61.539062 \"/>\n<path style=\"fill:none;stroke-width:1;stroke-linecap:butt;stroke-linejoin:miter;stroke:rgb(26.666667%,26.666667%,26.666667%);stroke-opacity:1;stroke-miterlimit:10;\" d=\"M 369.625 287.910156 L 580 249.65625 \"/>\n<path style=\"fill:none;stroke-width:1;stroke-linecap:butt;stroke-linejoin:miter;stroke:rgb(26.666667%,26.666667%,26.666667%);stroke-opacity:1;stroke-miterlimit:10;\" d=\"M 369.625 287.910156 L 214.472656 580 \"/>\n<path style=\"fill:none;stroke-width:1;stroke-linecap:butt;stroke-linejoin:miter;stroke:rgb(26.666667%,26.666667%,26.666667%);stroke-opacity:1;stroke-miterlimit:10;\" d=\"M 154.804688 61.539062 L 385.566406 20 \"/>\n<path style=\"fill:none;stroke-width:1;stroke-linecap:butt;stroke-linejoin:miter;stroke:rgb(26.666667%,26.666667%,26.666667%);stroke-opacity:1;stroke-miterlimit:10;\" d=\"M 154.804688 61.539062 L 20 350.160156 \"/>\n<path style=\"fill:none;stroke-width:1;stroke-linecap:butt;stroke-linejoin:miter;stroke:rgb(26.666667%,26.666667%,26.666667%);stroke-opacity:1;stroke-miterlimit:10;\" d=\"M 580 249.65625 L 385.566406 20 \"/>\n<path style=\"fill:none;stroke-width:1;stroke-linecap:butt;stroke-linejoin:miter;stroke:rgb(26.666667%,26.666667%,26.666667%);stroke-opacity:1;stroke-miterlimit:10;\" d=\"M 580 249.65625 L 445.242188 538.382812 \"/>\n<path style=\"fill:none;stroke-width:1;stroke-linecap:butt;stroke-linejoin:miter;stroke:rgb(26.666667%,26.666667%,26.666667%);stroke-opacity:1;stroke-miterlimit:10;\" d=\"M 385.566406 20 L 230.34375 312.292969 \"/>\n<path style=\"fill:none;stroke-width:1;stroke-linecap:butt;stroke-linejoin:miter;stroke:rgb(26.666667%,26.666667%,26.666667%);stroke-opacity:1;stroke-miterlimit:10;\" d=\"M 214.472656 580 L 20 350.160156 \"/>\n<path style=\"fill:none;stroke-width:1;stroke-linecap:butt;stroke-linejoin:miter;stroke:rgb(26.666667%,26.666667%,26.666667%);stroke-opacity:1;stroke-miterlimit:10;\" d=\"M 214.472656 580 L 445.242188 538.382812 \"/>\n<path style=\"fill:none;stroke-width:1;stroke-linecap:butt;stroke-linejoin:miter;stroke:rgb(26.666667%,26.666667%,26.666667%);stroke-opacity:1;stroke-miterlimit:10;\" d=\"M 20 350.160156 L 230.34375 312.292969 \"/>\n<path style=\"fill:none;stroke-width:1;stroke-linecap:butt;stroke-linejoin:miter;stroke:rgb(26.666667%,26.666667%,26.666667%);stroke-opacity:1;stroke-miterlimit:10;\" d=\"M 445.242188 538.382812 L 230.34375 312.292969 \"/>\n<path style=\"fill-rule:nonzero;fill:rgb(100%,0%,0%);fill-opacity:1;stroke-width:1;stroke-linecap:butt;stroke-linejoin:miter;stroke:rgb(0%,0%,0%);stroke-opacity:1;stroke-miterlimit:10;\" d=\"M 379.625 287.910156 C 379.625 293.433594 375.144531 297.910156 369.625 297.910156 C 364.101562 297.910156 359.625 293.433594 359.625 287.910156 C 359.625 282.386719 364.101562 277.910156 369.625 277.910156 C 375.144531 277.910156 379.625 282.386719 379.625 287.910156 \"/>\n<path style=\"fill-rule:nonzero;fill:rgb(100%,0%,0%);fill-opacity:1;stroke-width:1;stroke-linecap:butt;stroke-linejoin:miter;stroke:rgb(0%,0%,0%);stroke-opacity:1;stroke-miterlimit:10;\" d=\"M 164.804688 61.539062 C 164.804688 67.0625 160.328125 71.539062 154.804688 71.539062 C 149.28125 71.539062 144.804688 67.0625 144.804688 61.539062 C 144.804688 56.015625 149.28125 51.539062 154.804688 51.539062 C 160.328125 51.539062 164.804688 56.015625 164.804688 61.539062 \"/>\n<path style=\"fill-rule:nonzero;fill:rgb(100%,0%,0%);fill-opacity:1;stroke-width:1;stroke-linecap:butt;stroke-linejoin:miter;stroke:rgb(0%,0%,0%);stroke-opacity:1;stroke-miterlimit:10;\" d=\"M 590 249.65625 C 590 255.179688 585.523438 259.65625 580 259.65625 C 574.476562 259.65625 570 255.179688 570 249.65625 C 570 244.132812 574.476562 239.65625 580 239.65625 C 585.523438 239.65625 590 244.132812 590 249.65625 \"/>\n<path style=\"fill-rule:nonzero;fill:rgb(100%,0%,0%);fill-opacity:1;stroke-width:1;stroke-linecap:butt;stroke-linejoin:miter;stroke:rgb(0%,0%,0%);stroke-opacity:1;stroke-miterlimit:10;\" d=\"M 395.566406 20 C 395.566406 25.523438 391.085938 30 385.566406 30 C 380.042969 30 375.566406 25.523438 375.566406 20 C 375.566406 14.476562 380.042969 10 385.566406 10 C 391.085938 10 395.566406 14.476562 395.566406 20 \"/>\n<path style=\"fill-rule:nonzero;fill:rgb(100%,0%,0%);fill-opacity:1;stroke-width:1;stroke-linecap:butt;stroke-linejoin:miter;stroke:rgb(0%,0%,0%);stroke-opacity:1;stroke-miterlimit:10;\" d=\"M 224.472656 580 C 224.472656 585.523438 219.996094 590 214.472656 590 C 208.949219 590 204.472656 585.523438 204.472656 580 C 204.472656 574.476562 208.949219 570 214.472656 570 C 219.996094 570 224.472656 574.476562 224.472656 580 \"/>\n<path style=\"fill-rule:nonzero;fill:rgb(100%,0%,0%);fill-opacity:1;stroke-width:1;stroke-linecap:butt;stroke-linejoin:miter;stroke:rgb(0%,0%,0%);stroke-opacity:1;stroke-miterlimit:10;\" d=\"M 30 350.160156 C 30 355.683594 25.523438 360.160156 20 360.160156 C 14.476562 360.160156 10 355.683594 10 350.160156 C 10 344.636719 14.476562 340.160156 20 340.160156 C 25.523438 340.160156 30 344.636719 30 350.160156 \"/>\n<path style=\"fill-rule:nonzero;fill:rgb(100%,0%,0%);fill-opacity:1;stroke-width:1;stroke-linecap:butt;stroke-linejoin:miter;stroke:rgb(0%,0%,0%);stroke-opacity:1;stroke-miterlimit:10;\" d=\"M 455.242188 538.382812 C 455.242188 543.90625 450.765625 548.382812 445.242188 548.382812 C 439.722656 548.382812 435.242188 543.90625 435.242188 538.382812 C 435.242188 532.863281 439.722656 528.382812 445.242188 528.382812 C 450.765625 528.382812 455.242188 532.863281 455.242188 538.382812 \"/>\n<path style=\"fill-rule:nonzero;fill:rgb(100%,0%,0%);fill-opacity:1;stroke-width:1;stroke-linecap:butt;stroke-linejoin:miter;stroke:rgb(0%,0%,0%);stroke-opacity:1;stroke-miterlimit:10;\" d=\"M 240.34375 312.292969 C 240.34375 317.816406 235.863281 322.292969 230.34375 322.292969 C 224.820312 322.292969 220.34375 317.816406 220.34375 312.292969 C 220.34375 306.769531 224.820312 302.292969 230.34375 302.292969 C 235.863281 302.292969 240.34375 306.769531 240.34375 312.292969 \"/>\n</g>\n</svg>\n"
          },
          "metadata": {
            "tags": [],
            "image/svg+xml": {
              "isolated": true
            }
          },
          "execution_count": 79
        }
      ]
    },
    {
      "cell_type": "code",
      "metadata": {
        "id": "ExqNy7u08Gqa",
        "outputId": "2c919235-91ce-4fc0-91c4-f81397e9f2dd",
        "colab": {
          "base_uri": "https://localhost:8080/",
          "height": 820
        }
      },
      "source": [
        "layout = grafo.layout(\"kamada_kawai\")\n",
        "time_kamada_kawai_0 = time.time()\n",
        "plot(grafo, layout = layout)\n",
        "time_kamada_kawai_1 = time.time()\n",
        "\n",
        "times.append(time_kamada_kawai_1 - time_kamada_kawai_0)\n",
        "plot(grafo, layout = layout)"
      ],
      "execution_count": 80,
      "outputs": [
        {
          "output_type": "execute_result",
          "data": {
            "text/plain": [
              "<igraph.drawing.Plot at 0x7fe9f58adac8>"
            ],
            "image/svg+xml": "<?xml version=\"1.0\" encoding=\"UTF-8\"?>\n<svg xmlns=\"http://www.w3.org/2000/svg\" xmlns:xlink=\"http://www.w3.org/1999/xlink\" width=\"600pt\" height=\"600pt\" viewBox=\"0 0 600 600\" version=\"1.1\">\n<g id=\"surface204\">\n<rect x=\"0\" y=\"0\" width=\"600\" height=\"600\" style=\"fill:rgb(100%,100%,100%);fill-opacity:1;stroke:none;\"/>\n<path style=\"fill:none;stroke-width:1;stroke-linecap:butt;stroke-linejoin:miter;stroke:rgb(26.666667%,26.666667%,26.666667%);stroke-opacity:1;stroke-miterlimit:10;\" d=\"M 580 418.035156 L 336.042969 580 \"/>\n<path style=\"fill:none;stroke-width:1;stroke-linecap:butt;stroke-linejoin:miter;stroke:rgb(26.666667%,26.666667%,26.666667%);stroke-opacity:1;stroke-miterlimit:10;\" d=\"M 580 418.035156 L 253.113281 331.679688 \"/>\n<path style=\"fill:none;stroke-width:1;stroke-linecap:butt;stroke-linejoin:miter;stroke:rgb(26.666667%,26.666667%,26.666667%);stroke-opacity:1;stroke-miterlimit:10;\" d=\"M 580 418.035156 L 572.925781 118.550781 \"/>\n<path style=\"fill:none;stroke-width:1;stroke-linecap:butt;stroke-linejoin:miter;stroke:rgb(26.666667%,26.666667%,26.666667%);stroke-opacity:1;stroke-miterlimit:10;\" d=\"M 336.042969 580 L 27.070312 481.449219 \"/>\n<path style=\"fill:none;stroke-width:1;stroke-linecap:butt;stroke-linejoin:miter;stroke:rgb(26.666667%,26.666667%,26.666667%);stroke-opacity:1;stroke-miterlimit:10;\" d=\"M 336.042969 580 L 346.882812 268.320312 \"/>\n<path style=\"fill:none;stroke-width:1;stroke-linecap:butt;stroke-linejoin:miter;stroke:rgb(26.666667%,26.666667%,26.666667%);stroke-opacity:1;stroke-miterlimit:10;\" d=\"M 253.113281 331.679688 L 27.070312 481.449219 \"/>\n<path style=\"fill:none;stroke-width:1;stroke-linecap:butt;stroke-linejoin:miter;stroke:rgb(26.666667%,26.666667%,26.666667%);stroke-opacity:1;stroke-miterlimit:10;\" d=\"M 253.113281 331.679688 L 263.953125 20 \"/>\n<path style=\"fill:none;stroke-width:1;stroke-linecap:butt;stroke-linejoin:miter;stroke:rgb(26.666667%,26.666667%,26.666667%);stroke-opacity:1;stroke-miterlimit:10;\" d=\"M 27.070312 481.449219 L 20 181.960938 \"/>\n<path style=\"fill:none;stroke-width:1;stroke-linecap:butt;stroke-linejoin:miter;stroke:rgb(26.666667%,26.666667%,26.666667%);stroke-opacity:1;stroke-miterlimit:10;\" d=\"M 572.925781 118.550781 L 346.882812 268.320312 \"/>\n<path style=\"fill:none;stroke-width:1;stroke-linecap:butt;stroke-linejoin:miter;stroke:rgb(26.666667%,26.666667%,26.666667%);stroke-opacity:1;stroke-miterlimit:10;\" d=\"M 572.925781 118.550781 L 263.953125 20 \"/>\n<path style=\"fill:none;stroke-width:1;stroke-linecap:butt;stroke-linejoin:miter;stroke:rgb(26.666667%,26.666667%,26.666667%);stroke-opacity:1;stroke-miterlimit:10;\" d=\"M 346.882812 268.320312 L 20 181.960938 \"/>\n<path style=\"fill:none;stroke-width:1;stroke-linecap:butt;stroke-linejoin:miter;stroke:rgb(26.666667%,26.666667%,26.666667%);stroke-opacity:1;stroke-miterlimit:10;\" d=\"M 263.953125 20 L 20 181.960938 \"/>\n<path style=\"fill-rule:nonzero;fill:rgb(100%,0%,0%);fill-opacity:1;stroke-width:1;stroke-linecap:butt;stroke-linejoin:miter;stroke:rgb(0%,0%,0%);stroke-opacity:1;stroke-miterlimit:10;\" d=\"M 590 418.035156 C 590 423.558594 585.523438 428.035156 580 428.035156 C 574.476562 428.035156 570 423.558594 570 418.035156 C 570 412.511719 574.476562 408.035156 580 408.035156 C 585.523438 408.035156 590 412.511719 590 418.035156 \"/>\n<path style=\"fill-rule:nonzero;fill:rgb(100%,0%,0%);fill-opacity:1;stroke-width:1;stroke-linecap:butt;stroke-linejoin:miter;stroke:rgb(0%,0%,0%);stroke-opacity:1;stroke-miterlimit:10;\" d=\"M 346.042969 580 C 346.042969 585.523438 341.566406 590 336.042969 590 C 330.519531 590 326.042969 585.523438 326.042969 580 C 326.042969 574.476562 330.519531 570 336.042969 570 C 341.566406 570 346.042969 574.476562 346.042969 580 \"/>\n<path style=\"fill-rule:nonzero;fill:rgb(100%,0%,0%);fill-opacity:1;stroke-width:1;stroke-linecap:butt;stroke-linejoin:miter;stroke:rgb(0%,0%,0%);stroke-opacity:1;stroke-miterlimit:10;\" d=\"M 263.113281 331.679688 C 263.113281 337.203125 258.636719 341.679688 253.113281 341.679688 C 247.59375 341.679688 243.113281 337.203125 243.113281 331.679688 C 243.113281 326.15625 247.59375 321.679688 253.113281 321.679688 C 258.636719 321.679688 263.113281 326.15625 263.113281 331.679688 \"/>\n<path style=\"fill-rule:nonzero;fill:rgb(100%,0%,0%);fill-opacity:1;stroke-width:1;stroke-linecap:butt;stroke-linejoin:miter;stroke:rgb(0%,0%,0%);stroke-opacity:1;stroke-miterlimit:10;\" d=\"M 37.070312 481.449219 C 37.070312 486.96875 32.59375 491.449219 27.070312 491.449219 C 21.546875 491.449219 17.070312 486.96875 17.070312 481.449219 C 17.070312 475.925781 21.546875 471.449219 27.070312 471.449219 C 32.59375 471.449219 37.070312 475.925781 37.070312 481.449219 \"/>\n<path style=\"fill-rule:nonzero;fill:rgb(100%,0%,0%);fill-opacity:1;stroke-width:1;stroke-linecap:butt;stroke-linejoin:miter;stroke:rgb(0%,0%,0%);stroke-opacity:1;stroke-miterlimit:10;\" d=\"M 582.925781 118.550781 C 582.925781 124.074219 578.449219 128.550781 572.925781 128.550781 C 567.402344 128.550781 562.925781 124.074219 562.925781 118.550781 C 562.925781 113.027344 567.402344 108.550781 572.925781 108.550781 C 578.449219 108.550781 582.925781 113.027344 582.925781 118.550781 \"/>\n<path style=\"fill-rule:nonzero;fill:rgb(100%,0%,0%);fill-opacity:1;stroke-width:1;stroke-linecap:butt;stroke-linejoin:miter;stroke:rgb(0%,0%,0%);stroke-opacity:1;stroke-miterlimit:10;\" d=\"M 356.882812 268.320312 C 356.882812 273.839844 352.40625 278.320312 346.882812 278.320312 C 341.359375 278.320312 336.882812 273.839844 336.882812 268.320312 C 336.882812 262.796875 341.359375 258.320312 346.882812 258.320312 C 352.40625 258.320312 356.882812 262.796875 356.882812 268.320312 \"/>\n<path style=\"fill-rule:nonzero;fill:rgb(100%,0%,0%);fill-opacity:1;stroke-width:1;stroke-linecap:butt;stroke-linejoin:miter;stroke:rgb(0%,0%,0%);stroke-opacity:1;stroke-miterlimit:10;\" d=\"M 273.953125 20 C 273.953125 25.523438 269.476562 30 263.953125 30 C 258.433594 30 253.953125 25.523438 253.953125 20 C 253.953125 14.476562 258.433594 10 263.953125 10 C 269.476562 10 273.953125 14.476562 273.953125 20 \"/>\n<path style=\"fill-rule:nonzero;fill:rgb(100%,0%,0%);fill-opacity:1;stroke-width:1;stroke-linecap:butt;stroke-linejoin:miter;stroke:rgb(0%,0%,0%);stroke-opacity:1;stroke-miterlimit:10;\" d=\"M 30 181.960938 C 30 187.484375 25.523438 191.960938 20 191.960938 C 14.476562 191.960938 10 187.484375 10 181.960938 C 10 176.441406 14.476562 171.960938 20 171.960938 C 25.523438 171.960938 30 176.441406 30 181.960938 \"/>\n</g>\n</svg>\n"
          },
          "metadata": {
            "tags": [],
            "image/svg+xml": {
              "isolated": true
            }
          },
          "execution_count": 80
        }
      ]
    },
    {
      "cell_type": "code",
      "metadata": {
        "id": "Pa24ynlq8NIp",
        "outputId": "74407a78-d386-43ab-d6e2-ecbb514cd5f7",
        "colab": {
          "base_uri": "https://localhost:8080/",
          "height": 820
        }
      },
      "source": [
        "layout = grafo.layout(\"davidson_harel\")\n",
        "time_davidson_harel_0 = time.time()\n",
        "plot(grafo, layout = layout)\n",
        "time_davidson_harel_1 = time.time()\n",
        "\n",
        "times.append(time_davidson_harel_1 - time_davidson_harel_0)\n",
        "plot(grafo, layout = layout)"
      ],
      "execution_count": 81,
      "outputs": [
        {
          "output_type": "execute_result",
          "data": {
            "text/plain": [
              "<igraph.drawing.Plot at 0x7fe9f58b0470>"
            ],
            "image/svg+xml": "<?xml version=\"1.0\" encoding=\"UTF-8\"?>\n<svg xmlns=\"http://www.w3.org/2000/svg\" xmlns:xlink=\"http://www.w3.org/1999/xlink\" width=\"600pt\" height=\"600pt\" viewBox=\"0 0 600 600\" version=\"1.1\">\n<g id=\"surface211\">\n<rect x=\"0\" y=\"0\" width=\"600\" height=\"600\" style=\"fill:rgb(100%,100%,100%);fill-opacity:1;stroke:none;\"/>\n<path style=\"fill:none;stroke-width:1;stroke-linecap:butt;stroke-linejoin:miter;stroke:rgb(26.666667%,26.666667%,26.666667%);stroke-opacity:1;stroke-miterlimit:10;\" d=\"M 285.351562 413.28125 L 40.683594 392.703125 \"/>\n<path style=\"fill:none;stroke-width:1;stroke-linecap:butt;stroke-linejoin:miter;stroke:rgb(26.666667%,26.666667%,26.666667%);stroke-opacity:1;stroke-miterlimit:10;\" d=\"M 285.351562 413.28125 L 321.339844 580 \"/>\n<path style=\"fill:none;stroke-width:1;stroke-linecap:butt;stroke-linejoin:miter;stroke:rgb(26.666667%,26.666667%,26.666667%);stroke-opacity:1;stroke-miterlimit:10;\" d=\"M 285.351562 413.28125 L 392.652344 266.089844 \"/>\n<path style=\"fill:none;stroke-width:1;stroke-linecap:butt;stroke-linejoin:miter;stroke:rgb(26.666667%,26.666667%,26.666667%);stroke-opacity:1;stroke-miterlimit:10;\" d=\"M 40.683594 392.703125 L 20 216.140625 \"/>\n<path style=\"fill:none;stroke-width:1;stroke-linecap:butt;stroke-linejoin:miter;stroke:rgb(26.666667%,26.666667%,26.666667%);stroke-opacity:1;stroke-miterlimit:10;\" d=\"M 40.683594 392.703125 L 211.480469 207.335938 \"/>\n<path style=\"fill:none;stroke-width:1;stroke-linecap:butt;stroke-linejoin:miter;stroke:rgb(26.666667%,26.666667%,26.666667%);stroke-opacity:1;stroke-miterlimit:10;\" d=\"M 321.339844 580 L 20 216.140625 \"/>\n<path style=\"fill:none;stroke-width:1;stroke-linecap:butt;stroke-linejoin:miter;stroke:rgb(26.666667%,26.666667%,26.666667%);stroke-opacity:1;stroke-miterlimit:10;\" d=\"M 321.339844 580 L 580 293.859375 \"/>\n<path style=\"fill:none;stroke-width:1;stroke-linecap:butt;stroke-linejoin:miter;stroke:rgb(26.666667%,26.666667%,26.666667%);stroke-opacity:1;stroke-miterlimit:10;\" d=\"M 20 216.140625 L 311.300781 20 \"/>\n<path style=\"fill:none;stroke-width:1;stroke-linecap:butt;stroke-linejoin:miter;stroke:rgb(26.666667%,26.666667%,26.666667%);stroke-opacity:1;stroke-miterlimit:10;\" d=\"M 392.652344 266.089844 L 211.480469 207.335938 \"/>\n<path style=\"fill:none;stroke-width:1;stroke-linecap:butt;stroke-linejoin:miter;stroke:rgb(26.666667%,26.666667%,26.666667%);stroke-opacity:1;stroke-miterlimit:10;\" d=\"M 392.652344 266.089844 L 580 293.859375 \"/>\n<path style=\"fill:none;stroke-width:1;stroke-linecap:butt;stroke-linejoin:miter;stroke:rgb(26.666667%,26.666667%,26.666667%);stroke-opacity:1;stroke-miterlimit:10;\" d=\"M 211.480469 207.335938 L 311.300781 20 \"/>\n<path style=\"fill:none;stroke-width:1;stroke-linecap:butt;stroke-linejoin:miter;stroke:rgb(26.666667%,26.666667%,26.666667%);stroke-opacity:1;stroke-miterlimit:10;\" d=\"M 580 293.859375 L 311.300781 20 \"/>\n<path style=\"fill-rule:nonzero;fill:rgb(100%,0%,0%);fill-opacity:1;stroke-width:1;stroke-linecap:butt;stroke-linejoin:miter;stroke:rgb(0%,0%,0%);stroke-opacity:1;stroke-miterlimit:10;\" d=\"M 295.351562 413.28125 C 295.351562 418.804688 290.875 423.28125 285.351562 423.28125 C 279.828125 423.28125 275.351562 418.804688 275.351562 413.28125 C 275.351562 407.757812 279.828125 403.28125 285.351562 403.28125 C 290.875 403.28125 295.351562 407.757812 295.351562 413.28125 \"/>\n<path style=\"fill-rule:nonzero;fill:rgb(100%,0%,0%);fill-opacity:1;stroke-width:1;stroke-linecap:butt;stroke-linejoin:miter;stroke:rgb(0%,0%,0%);stroke-opacity:1;stroke-miterlimit:10;\" d=\"M 50.683594 392.703125 C 50.683594 398.226562 46.207031 402.703125 40.683594 402.703125 C 35.160156 402.703125 30.683594 398.226562 30.683594 392.703125 C 30.683594 387.179688 35.160156 382.703125 40.683594 382.703125 C 46.207031 382.703125 50.683594 387.179688 50.683594 392.703125 \"/>\n<path style=\"fill-rule:nonzero;fill:rgb(100%,0%,0%);fill-opacity:1;stroke-width:1;stroke-linecap:butt;stroke-linejoin:miter;stroke:rgb(0%,0%,0%);stroke-opacity:1;stroke-miterlimit:10;\" d=\"M 331.339844 580 C 331.339844 585.523438 326.863281 590 321.339844 590 C 315.816406 590 311.339844 585.523438 311.339844 580 C 311.339844 574.476562 315.816406 570 321.339844 570 C 326.863281 570 331.339844 574.476562 331.339844 580 \"/>\n<path style=\"fill-rule:nonzero;fill:rgb(100%,0%,0%);fill-opacity:1;stroke-width:1;stroke-linecap:butt;stroke-linejoin:miter;stroke:rgb(0%,0%,0%);stroke-opacity:1;stroke-miterlimit:10;\" d=\"M 30 216.140625 C 30 221.664062 25.523438 226.140625 20 226.140625 C 14.476562 226.140625 10 221.664062 10 216.140625 C 10 210.617188 14.476562 206.140625 20 206.140625 C 25.523438 206.140625 30 210.617188 30 216.140625 \"/>\n<path style=\"fill-rule:nonzero;fill:rgb(100%,0%,0%);fill-opacity:1;stroke-width:1;stroke-linecap:butt;stroke-linejoin:miter;stroke:rgb(0%,0%,0%);stroke-opacity:1;stroke-miterlimit:10;\" d=\"M 402.652344 266.089844 C 402.652344 271.613281 398.175781 276.089844 392.652344 276.089844 C 387.132812 276.089844 382.652344 271.613281 382.652344 266.089844 C 382.652344 260.566406 387.132812 256.089844 392.652344 256.089844 C 398.175781 256.089844 402.652344 260.566406 402.652344 266.089844 \"/>\n<path style=\"fill-rule:nonzero;fill:rgb(100%,0%,0%);fill-opacity:1;stroke-width:1;stroke-linecap:butt;stroke-linejoin:miter;stroke:rgb(0%,0%,0%);stroke-opacity:1;stroke-miterlimit:10;\" d=\"M 221.480469 207.335938 C 221.480469 212.855469 217.003906 217.335938 211.480469 217.335938 C 205.960938 217.335938 201.480469 212.855469 201.480469 207.335938 C 201.480469 201.8125 205.960938 197.335938 211.480469 197.335938 C 217.003906 197.335938 221.480469 201.8125 221.480469 207.335938 \"/>\n<path style=\"fill-rule:nonzero;fill:rgb(100%,0%,0%);fill-opacity:1;stroke-width:1;stroke-linecap:butt;stroke-linejoin:miter;stroke:rgb(0%,0%,0%);stroke-opacity:1;stroke-miterlimit:10;\" d=\"M 590 293.859375 C 590 299.382812 585.523438 303.859375 580 303.859375 C 574.476562 303.859375 570 299.382812 570 293.859375 C 570 288.335938 574.476562 283.859375 580 283.859375 C 585.523438 283.859375 590 288.335938 590 293.859375 \"/>\n<path style=\"fill-rule:nonzero;fill:rgb(100%,0%,0%);fill-opacity:1;stroke-width:1;stroke-linecap:butt;stroke-linejoin:miter;stroke:rgb(0%,0%,0%);stroke-opacity:1;stroke-miterlimit:10;\" d=\"M 321.300781 20 C 321.300781 25.523438 316.824219 30 311.300781 30 C 305.777344 30 301.300781 25.523438 301.300781 20 C 301.300781 14.476562 305.777344 10 311.300781 10 C 316.824219 10 321.300781 14.476562 321.300781 20 \"/>\n</g>\n</svg>\n"
          },
          "metadata": {
            "tags": [],
            "image/svg+xml": {
              "isolated": true
            }
          },
          "execution_count": 81
        }
      ]
    },
    {
      "cell_type": "code",
      "metadata": {
        "id": "R3PMASW_8Ppr",
        "outputId": "d8fba71c-7d4b-437e-8707-e4f5b777839a",
        "colab": {
          "base_uri": "https://localhost:8080/",
          "height": 820
        }
      },
      "source": [
        "layout = grafo.layout(\"mds\")\n",
        "time_mds_0 = time.time()\n",
        "plot(grafo, layout = layout)\n",
        "time_mds_1 = time.time()\n",
        "\n",
        "times.append(time_mds_1 - time_mds_0)\n",
        "plot(grafo, layout = layout)"
      ],
      "execution_count": 82,
      "outputs": [
        {
          "output_type": "execute_result",
          "data": {
            "text/plain": [
              "<igraph.drawing.Plot at 0x7fe9f58b05c0>"
            ],
            "image/svg+xml": "<?xml version=\"1.0\" encoding=\"UTF-8\"?>\n<svg xmlns=\"http://www.w3.org/2000/svg\" xmlns:xlink=\"http://www.w3.org/1999/xlink\" width=\"600pt\" height=\"600pt\" viewBox=\"0 0 600 600\" version=\"1.1\">\n<g id=\"surface218\">\n<rect x=\"0\" y=\"0\" width=\"600\" height=\"600\" style=\"fill:rgb(100%,100%,100%);fill-opacity:1;stroke:none;\"/>\n<path style=\"fill:none;stroke-width:1;stroke-linecap:butt;stroke-linejoin:miter;stroke:rgb(26.666667%,26.666667%,26.666667%);stroke-opacity:1;stroke-miterlimit:10;\" d=\"M 580 381.308594 L 311.582031 580 \"/>\n<path style=\"fill:none;stroke-width:1;stroke-linecap:butt;stroke-linejoin:miter;stroke:rgb(26.666667%,26.666667%,26.666667%);stroke-opacity:1;stroke-miterlimit:10;\" d=\"M 580 381.308594 L 440.769531 250.808594 \"/>\n<path style=\"fill:none;stroke-width:1;stroke-linecap:butt;stroke-linejoin:miter;stroke:rgb(26.666667%,26.666667%,26.666667%);stroke-opacity:1;stroke-miterlimit:10;\" d=\"M 580 381.308594 L 427.652344 150.496094 \"/>\n<path style=\"fill:none;stroke-width:1;stroke-linecap:butt;stroke-linejoin:miter;stroke:rgb(26.666667%,26.666667%,26.666667%);stroke-opacity:1;stroke-miterlimit:10;\" d=\"M 311.582031 580 L 172.347656 449.503906 \"/>\n<path style=\"fill:none;stroke-width:1;stroke-linecap:butt;stroke-linejoin:miter;stroke:rgb(26.666667%,26.666667%,26.666667%);stroke-opacity:1;stroke-miterlimit:10;\" d=\"M 311.582031 580 L 159.230469 349.191406 \"/>\n<path style=\"fill:none;stroke-width:1;stroke-linecap:butt;stroke-linejoin:miter;stroke:rgb(26.666667%,26.666667%,26.666667%);stroke-opacity:1;stroke-miterlimit:10;\" d=\"M 440.769531 250.808594 L 172.347656 449.503906 \"/>\n<path style=\"fill:none;stroke-width:1;stroke-linecap:butt;stroke-linejoin:miter;stroke:rgb(26.666667%,26.666667%,26.666667%);stroke-opacity:1;stroke-miterlimit:10;\" d=\"M 440.769531 250.808594 L 288.417969 20 \"/>\n<path style=\"fill:none;stroke-width:1;stroke-linecap:butt;stroke-linejoin:miter;stroke:rgb(26.666667%,26.666667%,26.666667%);stroke-opacity:1;stroke-miterlimit:10;\" d=\"M 172.347656 449.503906 L 20 218.691406 \"/>\n<path style=\"fill:none;stroke-width:1;stroke-linecap:butt;stroke-linejoin:miter;stroke:rgb(26.666667%,26.666667%,26.666667%);stroke-opacity:1;stroke-miterlimit:10;\" d=\"M 427.652344 150.496094 L 159.230469 349.191406 \"/>\n<path style=\"fill:none;stroke-width:1;stroke-linecap:butt;stroke-linejoin:miter;stroke:rgb(26.666667%,26.666667%,26.666667%);stroke-opacity:1;stroke-miterlimit:10;\" d=\"M 427.652344 150.496094 L 288.417969 20 \"/>\n<path style=\"fill:none;stroke-width:1;stroke-linecap:butt;stroke-linejoin:miter;stroke:rgb(26.666667%,26.666667%,26.666667%);stroke-opacity:1;stroke-miterlimit:10;\" d=\"M 159.230469 349.191406 L 20 218.691406 \"/>\n<path style=\"fill:none;stroke-width:1;stroke-linecap:butt;stroke-linejoin:miter;stroke:rgb(26.666667%,26.666667%,26.666667%);stroke-opacity:1;stroke-miterlimit:10;\" d=\"M 288.417969 20 L 20 218.691406 \"/>\n<path style=\"fill-rule:nonzero;fill:rgb(100%,0%,0%);fill-opacity:1;stroke-width:1;stroke-linecap:butt;stroke-linejoin:miter;stroke:rgb(0%,0%,0%);stroke-opacity:1;stroke-miterlimit:10;\" d=\"M 590 381.308594 C 590 386.828125 585.523438 391.308594 580 391.308594 C 574.476562 391.308594 570 386.828125 570 381.308594 C 570 375.785156 574.476562 371.308594 580 371.308594 C 585.523438 371.308594 590 375.785156 590 381.308594 \"/>\n<path style=\"fill-rule:nonzero;fill:rgb(100%,0%,0%);fill-opacity:1;stroke-width:1;stroke-linecap:butt;stroke-linejoin:miter;stroke:rgb(0%,0%,0%);stroke-opacity:1;stroke-miterlimit:10;\" d=\"M 321.582031 580 C 321.582031 585.523438 317.105469 590 311.582031 590 C 306.058594 590 301.582031 585.523438 301.582031 580 C 301.582031 574.476562 306.058594 570 311.582031 570 C 317.105469 570 321.582031 574.476562 321.582031 580 \"/>\n<path style=\"fill-rule:nonzero;fill:rgb(100%,0%,0%);fill-opacity:1;stroke-width:1;stroke-linecap:butt;stroke-linejoin:miter;stroke:rgb(0%,0%,0%);stroke-opacity:1;stroke-miterlimit:10;\" d=\"M 450.769531 250.808594 C 450.769531 256.332031 446.289062 260.808594 440.769531 260.808594 C 435.246094 260.808594 430.769531 256.332031 430.769531 250.808594 C 430.769531 245.285156 435.246094 240.808594 440.769531 240.808594 C 446.289062 240.808594 450.769531 245.285156 450.769531 250.808594 \"/>\n<path style=\"fill-rule:nonzero;fill:rgb(100%,0%,0%);fill-opacity:1;stroke-width:1;stroke-linecap:butt;stroke-linejoin:miter;stroke:rgb(0%,0%,0%);stroke-opacity:1;stroke-miterlimit:10;\" d=\"M 182.347656 449.503906 C 182.347656 455.023438 177.871094 459.503906 172.347656 459.503906 C 166.824219 459.503906 162.347656 455.023438 162.347656 449.503906 C 162.347656 443.980469 166.824219 439.503906 172.347656 439.503906 C 177.871094 439.503906 182.347656 443.980469 182.347656 449.503906 \"/>\n<path style=\"fill-rule:nonzero;fill:rgb(100%,0%,0%);fill-opacity:1;stroke-width:1;stroke-linecap:butt;stroke-linejoin:miter;stroke:rgb(0%,0%,0%);stroke-opacity:1;stroke-miterlimit:10;\" d=\"M 437.652344 150.496094 C 437.652344 156.019531 433.175781 160.496094 427.652344 160.496094 C 422.128906 160.496094 417.652344 156.019531 417.652344 150.496094 C 417.652344 144.976562 422.128906 140.496094 427.652344 140.496094 C 433.175781 140.496094 437.652344 144.976562 437.652344 150.496094 \"/>\n<path style=\"fill-rule:nonzero;fill:rgb(100%,0%,0%);fill-opacity:1;stroke-width:1;stroke-linecap:butt;stroke-linejoin:miter;stroke:rgb(0%,0%,0%);stroke-opacity:1;stroke-miterlimit:10;\" d=\"M 169.230469 349.191406 C 169.230469 354.714844 164.753906 359.191406 159.230469 359.191406 C 153.710938 359.191406 149.230469 354.714844 149.230469 349.191406 C 149.230469 343.667969 153.710938 339.191406 159.230469 339.191406 C 164.753906 339.191406 169.230469 343.667969 169.230469 349.191406 \"/>\n<path style=\"fill-rule:nonzero;fill:rgb(100%,0%,0%);fill-opacity:1;stroke-width:1;stroke-linecap:butt;stroke-linejoin:miter;stroke:rgb(0%,0%,0%);stroke-opacity:1;stroke-miterlimit:10;\" d=\"M 298.417969 20 C 298.417969 25.523438 293.941406 30 288.417969 30 C 282.894531 30 278.417969 25.523438 278.417969 20 C 278.417969 14.476562 282.894531 10 288.417969 10 C 293.941406 10 298.417969 14.476562 298.417969 20 \"/>\n<path style=\"fill-rule:nonzero;fill:rgb(100%,0%,0%);fill-opacity:1;stroke-width:1;stroke-linecap:butt;stroke-linejoin:miter;stroke:rgb(0%,0%,0%);stroke-opacity:1;stroke-miterlimit:10;\" d=\"M 30 218.691406 C 30 224.214844 25.523438 228.691406 20 228.691406 C 14.476562 228.691406 10 224.214844 10 218.691406 C 10 213.171875 14.476562 208.691406 20 208.691406 C 25.523438 208.691406 30 213.171875 30 218.691406 \"/>\n</g>\n</svg>\n"
          },
          "metadata": {
            "tags": [],
            "image/svg+xml": {
              "isolated": true
            }
          },
          "execution_count": 82
        }
      ]
    },
    {
      "cell_type": "code",
      "metadata": {
        "id": "lMuLsvLW8UHT",
        "outputId": "07d0a9d4-8f26-43af-d78c-560f02ec93fc",
        "colab": {
          "base_uri": "https://localhost:8080/",
          "height": 820
        }
      },
      "source": [
        "layout = grafo.layout(\"lgl\")\n",
        "time_lgl_0 = time.time()\n",
        "plot(grafo, layout = layout)\n",
        "time_lgl_1 = time.time()\n",
        "\n",
        "times.append(time_lgl_1 - time_lgl_0)\n",
        "plot(grafo, layout = layout)"
      ],
      "execution_count": 83,
      "outputs": [
        {
          "output_type": "execute_result",
          "data": {
            "text/plain": [
              "<igraph.drawing.Plot at 0x7fe9f5fd3588>"
            ],
            "image/svg+xml": "<?xml version=\"1.0\" encoding=\"UTF-8\"?>\n<svg xmlns=\"http://www.w3.org/2000/svg\" xmlns:xlink=\"http://www.w3.org/1999/xlink\" width=\"600pt\" height=\"600pt\" viewBox=\"0 0 600 600\" version=\"1.1\">\n<g id=\"surface225\">\n<rect x=\"0\" y=\"0\" width=\"600\" height=\"600\" style=\"fill:rgb(100%,100%,100%);fill-opacity:1;stroke:none;\"/>\n<path style=\"fill:none;stroke-width:1;stroke-linecap:butt;stroke-linejoin:miter;stroke:rgb(26.666667%,26.666667%,26.666667%);stroke-opacity:1;stroke-miterlimit:10;\" d=\"M 560.09375 452.003906 L 262.996094 403.21875 \"/>\n<path style=\"fill:none;stroke-width:1;stroke-linecap:butt;stroke-linejoin:miter;stroke:rgb(26.666667%,26.666667%,26.666667%);stroke-opacity:1;stroke-miterlimit:10;\" d=\"M 560.09375 452.003906 L 580 70.992188 \"/>\n<path style=\"fill:none;stroke-width:1;stroke-linecap:butt;stroke-linejoin:miter;stroke:rgb(26.666667%,26.666667%,26.666667%);stroke-opacity:1;stroke-miterlimit:10;\" d=\"M 560.09375 452.003906 L 316.949219 580 \"/>\n<path style=\"fill:none;stroke-width:1;stroke-linecap:butt;stroke-linejoin:miter;stroke:rgb(26.666667%,26.666667%,26.666667%);stroke-opacity:1;stroke-miterlimit:10;\" d=\"M 262.996094 403.21875 L 335.847656 196.125 \"/>\n<path style=\"fill:none;stroke-width:1;stroke-linecap:butt;stroke-linejoin:miter;stroke:rgb(26.666667%,26.666667%,26.666667%);stroke-opacity:1;stroke-miterlimit:10;\" d=\"M 262.996094 403.21875 L 20 539.886719 \"/>\n<path style=\"fill:none;stroke-width:1;stroke-linecap:butt;stroke-linejoin:miter;stroke:rgb(26.666667%,26.666667%,26.666667%);stroke-opacity:1;stroke-miterlimit:10;\" d=\"M 580 70.992188 L 335.847656 196.125 \"/>\n<path style=\"fill:none;stroke-width:1;stroke-linecap:butt;stroke-linejoin:miter;stroke:rgb(26.666667%,26.666667%,26.666667%);stroke-opacity:1;stroke-miterlimit:10;\" d=\"M 580 70.992188 L 283.191406 20 \"/>\n<path style=\"fill:none;stroke-width:1;stroke-linecap:butt;stroke-linejoin:miter;stroke:rgb(26.666667%,26.666667%,26.666667%);stroke-opacity:1;stroke-miterlimit:10;\" d=\"M 335.847656 196.125 L 35.320312 156.773438 \"/>\n<path style=\"fill:none;stroke-width:1;stroke-linecap:butt;stroke-linejoin:miter;stroke:rgb(26.666667%,26.666667%,26.666667%);stroke-opacity:1;stroke-miterlimit:10;\" d=\"M 316.949219 580 L 20 539.886719 \"/>\n<path style=\"fill:none;stroke-width:1;stroke-linecap:butt;stroke-linejoin:miter;stroke:rgb(26.666667%,26.666667%,26.666667%);stroke-opacity:1;stroke-miterlimit:10;\" d=\"M 316.949219 580 L 283.191406 20 \"/>\n<path style=\"fill:none;stroke-width:1;stroke-linecap:butt;stroke-linejoin:miter;stroke:rgb(26.666667%,26.666667%,26.666667%);stroke-opacity:1;stroke-miterlimit:10;\" d=\"M 20 539.886719 L 35.320312 156.773438 \"/>\n<path style=\"fill:none;stroke-width:1;stroke-linecap:butt;stroke-linejoin:miter;stroke:rgb(26.666667%,26.666667%,26.666667%);stroke-opacity:1;stroke-miterlimit:10;\" d=\"M 283.191406 20 L 35.320312 156.773438 \"/>\n<path style=\"fill-rule:nonzero;fill:rgb(100%,0%,0%);fill-opacity:1;stroke-width:1;stroke-linecap:butt;stroke-linejoin:miter;stroke:rgb(0%,0%,0%);stroke-opacity:1;stroke-miterlimit:10;\" d=\"M 570.09375 452.003906 C 570.09375 457.523438 565.617188 462.003906 560.09375 462.003906 C 554.570312 462.003906 550.09375 457.523438 550.09375 452.003906 C 550.09375 446.480469 554.570312 442.003906 560.09375 442.003906 C 565.617188 442.003906 570.09375 446.480469 570.09375 452.003906 \"/>\n<path style=\"fill-rule:nonzero;fill:rgb(100%,0%,0%);fill-opacity:1;stroke-width:1;stroke-linecap:butt;stroke-linejoin:miter;stroke:rgb(0%,0%,0%);stroke-opacity:1;stroke-miterlimit:10;\" d=\"M 272.996094 403.21875 C 272.996094 408.742188 268.519531 413.21875 262.996094 413.21875 C 257.472656 413.21875 252.996094 408.742188 252.996094 403.21875 C 252.996094 397.695312 257.472656 393.21875 262.996094 393.21875 C 268.519531 393.21875 272.996094 397.695312 272.996094 403.21875 \"/>\n<path style=\"fill-rule:nonzero;fill:rgb(100%,0%,0%);fill-opacity:1;stroke-width:1;stroke-linecap:butt;stroke-linejoin:miter;stroke:rgb(0%,0%,0%);stroke-opacity:1;stroke-miterlimit:10;\" d=\"M 590 70.992188 C 590 76.515625 585.523438 80.992188 580 80.992188 C 574.476562 80.992188 570 76.515625 570 70.992188 C 570 65.46875 574.476562 60.992188 580 60.992188 C 585.523438 60.992188 590 65.46875 590 70.992188 \"/>\n<path style=\"fill-rule:nonzero;fill:rgb(100%,0%,0%);fill-opacity:1;stroke-width:1;stroke-linecap:butt;stroke-linejoin:miter;stroke:rgb(0%,0%,0%);stroke-opacity:1;stroke-miterlimit:10;\" d=\"M 345.847656 196.125 C 345.847656 201.648438 341.371094 206.125 335.847656 206.125 C 330.324219 206.125 325.847656 201.648438 325.847656 196.125 C 325.847656 190.601562 330.324219 186.125 335.847656 186.125 C 341.371094 186.125 345.847656 190.601562 345.847656 196.125 \"/>\n<path style=\"fill-rule:nonzero;fill:rgb(100%,0%,0%);fill-opacity:1;stroke-width:1;stroke-linecap:butt;stroke-linejoin:miter;stroke:rgb(0%,0%,0%);stroke-opacity:1;stroke-miterlimit:10;\" d=\"M 326.949219 580 C 326.949219 585.523438 322.46875 590 316.949219 590 C 311.425781 590 306.949219 585.523438 306.949219 580 C 306.949219 574.476562 311.425781 570 316.949219 570 C 322.46875 570 326.949219 574.476562 326.949219 580 \"/>\n<path style=\"fill-rule:nonzero;fill:rgb(100%,0%,0%);fill-opacity:1;stroke-width:1;stroke-linecap:butt;stroke-linejoin:miter;stroke:rgb(0%,0%,0%);stroke-opacity:1;stroke-miterlimit:10;\" d=\"M 30 539.886719 C 30 545.410156 25.523438 549.886719 20 549.886719 C 14.476562 549.886719 10 545.410156 10 539.886719 C 10 534.367188 14.476562 529.886719 20 529.886719 C 25.523438 529.886719 30 534.367188 30 539.886719 \"/>\n<path style=\"fill-rule:nonzero;fill:rgb(100%,0%,0%);fill-opacity:1;stroke-width:1;stroke-linecap:butt;stroke-linejoin:miter;stroke:rgb(0%,0%,0%);stroke-opacity:1;stroke-miterlimit:10;\" d=\"M 293.191406 20 C 293.191406 25.523438 288.714844 30 283.191406 30 C 277.667969 30 273.191406 25.523438 273.191406 20 C 273.191406 14.476562 277.667969 10 283.191406 10 C 288.714844 10 293.191406 14.476562 293.191406 20 \"/>\n<path style=\"fill-rule:nonzero;fill:rgb(100%,0%,0%);fill-opacity:1;stroke-width:1;stroke-linecap:butt;stroke-linejoin:miter;stroke:rgb(0%,0%,0%);stroke-opacity:1;stroke-miterlimit:10;\" d=\"M 45.320312 156.773438 C 45.320312 162.296875 40.84375 166.773438 35.320312 166.773438 C 29.796875 166.773438 25.320312 162.296875 25.320312 156.773438 C 25.320312 151.25 29.796875 146.773438 35.320312 146.773438 C 40.84375 146.773438 45.320312 151.25 45.320312 156.773438 \"/>\n</g>\n</svg>\n"
          },
          "metadata": {
            "tags": [],
            "image/svg+xml": {
              "isolated": true
            }
          },
          "execution_count": 83
        }
      ]
    },
    {
      "cell_type": "code",
      "metadata": {
        "id": "R55yKTyN8Ap5",
        "outputId": "162717b3-4479-45fc-f03a-35663071e760",
        "colab": {
          "base_uri": "https://localhost:8080/",
          "height": 35
        }
      },
      "source": [
        "\"Não roda\"\n",
        "#layout = grafo.layout(\"bipartite\")\n",
        "#plot(grafo, layout = layout)"
      ],
      "execution_count": 84,
      "outputs": [
        {
          "output_type": "execute_result",
          "data": {
            "application/vnd.google.colaboratory.intrinsic+json": {
              "type": "string"
            },
            "text/plain": [
              "'Não roda'"
            ]
          },
          "metadata": {
            "tags": []
          },
          "execution_count": 84
        }
      ]
    },
    {
      "cell_type": "code",
      "metadata": {
        "id": "_tNVcGWl8I2L",
        "outputId": "9d5d28ec-7fe4-42ae-f756-aab001ea939c",
        "colab": {
          "base_uri": "https://localhost:8080/",
          "height": 35
        }
      },
      "source": [
        "\"Não roda\"\n",
        "#layout = grafo.layout(\"gem\")\n",
        "#plot(grafo, layout = layout)"
      ],
      "execution_count": 85,
      "outputs": [
        {
          "output_type": "execute_result",
          "data": {
            "application/vnd.google.colaboratory.intrinsic+json": {
              "type": "string"
            },
            "text/plain": [
              "'Não roda'"
            ]
          },
          "metadata": {
            "tags": []
          },
          "execution_count": 85
        }
      ]
    },
    {
      "cell_type": "code",
      "metadata": {
        "id": "_6rOsQUq8WXz",
        "outputId": "bef1af71-9021-4e0c-ee2d-250baa9a3cdb",
        "colab": {
          "base_uri": "https://localhost:8080/",
          "height": 35
        }
      },
      "source": [
        "\"Não roda\"\n",
        "#layout = grafo.layout(\"random_3d\")\n",
        "#plot(grafo, layout = layout)"
      ],
      "execution_count": 86,
      "outputs": [
        {
          "output_type": "execute_result",
          "data": {
            "application/vnd.google.colaboratory.intrinsic+json": {
              "type": "string"
            },
            "text/plain": [
              "'Não roda'"
            ]
          },
          "metadata": {
            "tags": []
          },
          "execution_count": 86
        }
      ]
    },
    {
      "cell_type": "code",
      "metadata": {
        "id": "jbQuUVL28Yyc",
        "outputId": "fe9cc45a-e2ab-43e3-c515-99724c2295a6",
        "colab": {
          "base_uri": "https://localhost:8080/",
          "height": 35
        }
      },
      "source": [
        "\"Não roda\"\n",
        "#layout = grafo.layout(\"sphere\")\n",
        "#plot(grafo, layout = layout)"
      ],
      "execution_count": 87,
      "outputs": [
        {
          "output_type": "execute_result",
          "data": {
            "application/vnd.google.colaboratory.intrinsic+json": {
              "type": "string"
            },
            "text/plain": [
              "'Não roda'"
            ]
          },
          "metadata": {
            "tags": []
          },
          "execution_count": 87
        }
      ]
    },
    {
      "cell_type": "code",
      "metadata": {
        "id": "wWkvQz-J8ai5",
        "outputId": "26eba23f-99bd-423d-c4f8-9ff031b297c9",
        "colab": {
          "base_uri": "https://localhost:8080/",
          "height": 35
        }
      },
      "source": [
        "\"Não roda\"\n",
        "#layout = grafo.layout(\"grid_3d\")\n",
        "#plot(grafo, layout = layout)"
      ],
      "execution_count": 88,
      "outputs": [
        {
          "output_type": "execute_result",
          "data": {
            "application/vnd.google.colaboratory.intrinsic+json": {
              "type": "string"
            },
            "text/plain": [
              "'Não roda'"
            ]
          },
          "metadata": {
            "tags": []
          },
          "execution_count": 88
        }
      ]
    },
    {
      "cell_type": "code",
      "metadata": {
        "id": "baXqNDls8eR7",
        "outputId": "d5e8f752-843e-4e78-bbc6-97f32cc71cb8",
        "colab": {
          "base_uri": "https://localhost:8080/",
          "height": 35
        }
      },
      "source": [
        "\"Não roda\"\n",
        "#layout = grafo.layout(\"fruchterman_reingold_3d\")\n",
        "#plot(grafo, layout = layout)"
      ],
      "execution_count": 89,
      "outputs": [
        {
          "output_type": "execute_result",
          "data": {
            "application/vnd.google.colaboratory.intrinsic+json": {
              "type": "string"
            },
            "text/plain": [
              "'Não roda'"
            ]
          },
          "metadata": {
            "tags": []
          },
          "execution_count": 89
        }
      ]
    },
    {
      "cell_type": "code",
      "metadata": {
        "id": "tYvJOFV58gz6",
        "outputId": "aa04ea64-7325-4a83-bc06-41de8b742f84",
        "colab": {
          "base_uri": "https://localhost:8080/",
          "height": 35
        }
      },
      "source": [
        "\"Não roda\"\n",
        "#layout = grafo.layout(\"kamada_kawai_3d\")\n",
        "#plot(grafo, layout = layout)"
      ],
      "execution_count": 90,
      "outputs": [
        {
          "output_type": "execute_result",
          "data": {
            "application/vnd.google.colaboratory.intrinsic+json": {
              "type": "string"
            },
            "text/plain": [
              "'Não roda'"
            ]
          },
          "metadata": {
            "tags": []
          },
          "execution_count": 90
        }
      ]
    },
    {
      "cell_type": "code",
      "metadata": {
        "id": "V8a8SziegBtq",
        "outputId": "96944fba-d06a-4d6e-d591-69797a8147e9",
        "colab": {
          "base_uri": "https://localhost:8080/",
          "height": 283
        }
      },
      "source": [
        "times\n",
        "tipos_de_grafos = ['kk', 'random', 'circle', 'star', 'grid', 'graphopt', 'fr', 'kamada_kawai', 'davidson_harel', 'mds', 'lgl']\n",
        "\n",
        "plt.barh(tipos_de_grafos, times, color=\"red\")"
      ],
      "execution_count": 95,
      "outputs": [
        {
          "output_type": "execute_result",
          "data": {
            "text/plain": [
              "<BarContainer object of 11 artists>"
            ]
          },
          "metadata": {
            "tags": []
          },
          "execution_count": 95
        },
        {
          "output_type": "display_data",
          "data": {
            "image/png": "[encoded data removed]",
            "text/plain": [
              "<Figure size 432x288 with 1 Axes>"
            ]
          },
          "metadata": {
            "tags": [],
            "needs_background": "light"
          }
        }
      ]
    },
    {
      "cell_type": "code",
      "metadata": {
        "id": "-pyOyuy2WKrT",
        "outputId": "0f6745c9-4198-4948-dab6-72099b4dda83",
        "colab": {
          "base_uri": "https://localhost:8080/",
          "height": 791
        }
      },
      "source": [
        "grafo_5, aresta_grafo_5 = graph(5) \n",
        "\n",
        "a = grafo_5.get_adjacency()\n",
        "b = grafo_5.vs.degree()\n",
        "c = grafo_5.degree_distribution()\n",
        "d = grafo_5.diameter()\n",
        "\n",
        "print(\"Matriz de Adjacencia\")\n",
        "print(a)\n",
        "\n",
        "print(\"------\")\n",
        "print(\"Sequencia de Graus\")\n",
        "print(b)\n",
        "\n",
        "print(\"------\")\n",
        "print(\"Histograma de Graus\")\n",
        "print(c)\n",
        "\n",
        "print(\"------\")\n",
        "print(\"Diametro\")\n",
        "print(d)"
      ],
      "execution_count": 92,
      "outputs": [
        {
          "output_type": "stream",
          "text": [
            "Matriz de Adjacencia\n",
            "[[0, 1, 1, 0, 1, 0, 0, 0, 1, 0, 0, 0, 0, 0, 0, 0, 1, 0, 0, 0, 0, 0, 0, 0, 0, 0, 0, 0, 0, 0, 0, 0]\n",
            " [1, 0, 0, 1, 0, 1, 0, 0, 0, 1, 0, 0, 0, 0, 0, 0, 0, 1, 0, 0, 0, 0, 0, 0, 0, 0, 0, 0, 0, 0, 0, 0]\n",
            " [1, 0, 0, 1, 0, 0, 1, 0, 0, 0, 1, 0, 0, 0, 0, 0, 0, 0, 1, 0, 0, 0, 0, 0, 0, 0, 0, 0, 0, 0, 0, 0]\n",
            " [0, 1, 1, 0, 0, 0, 0, 1, 0, 0, 0, 1, 0, 0, 0, 0, 0, 0, 0, 1, 0, 0, 0, 0, 0, 0, 0, 0, 0, 0, 0, 0]\n",
            " [1, 0, 0, 0, 0, 1, 1, 0, 0, 0, 0, 0, 1, 0, 0, 0, 0, 0, 0, 0, 1, 0, 0, 0, 0, 0, 0, 0, 0, 0, 0, 0]\n",
            " [0, 1, 0, 0, 1, 0, 0, 1, 0, 0, 0, 0, 0, 1, 0, 0, 0, 0, 0, 0, 0, 1, 0, 0, 0, 0, 0, 0, 0, 0, 0, 0]\n",
            " [0, 0, 1, 0, 1, 0, 0, 1, 0, 0, 0, 0, 0, 0, 1, 0, 0, 0, 0, 0, 0, 0, 1, 0, 0, 0, 0, 0, 0, 0, 0, 0]\n",
            " [0, 0, 0, 1, 0, 1, 1, 0, 0, 0, 0, 0, 0, 0, 0, 1, 0, 0, 0, 0, 0, 0, 0, 1, 0, 0, 0, 0, 0, 0, 0, 0]\n",
            " [1, 0, 0, 0, 0, 0, 0, 0, 0, 1, 1, 0, 1, 0, 0, 0, 0, 0, 0, 0, 0, 0, 0, 0, 1, 0, 0, 0, 0, 0, 0, 0]\n",
            " [0, 1, 0, 0, 0, 0, 0, 0, 1, 0, 0, 1, 0, 1, 0, 0, 0, 0, 0, 0, 0, 0, 0, 0, 0, 1, 0, 0, 0, 0, 0, 0]\n",
            " [0, 0, 1, 0, 0, 0, 0, 0, 1, 0, 0, 1, 0, 0, 1, 0, 0, 0, 0, 0, 0, 0, 0, 0, 0, 0, 1, 0, 0, 0, 0, 0]\n",
            " [0, 0, 0, 1, 0, 0, 0, 0, 0, 1, 1, 0, 0, 0, 0, 1, 0, 0, 0, 0, 0, 0, 0, 0, 0, 0, 0, 1, 0, 0, 0, 0]\n",
            " [0, 0, 0, 0, 1, 0, 0, 0, 1, 0, 0, 0, 0, 1, 1, 0, 0, 0, 0, 0, 0, 0, 0, 0, 0, 0, 0, 0, 1, 0, 0, 0]\n",
            " [0, 0, 0, 0, 0, 1, 0, 0, 0, 1, 0, 0, 1, 0, 0, 1, 0, 0, 0, 0, 0, 0, 0, 0, 0, 0, 0, 0, 0, 1, 0, 0]\n",
            " [0, 0, 0, 0, 0, 0, 1, 0, 0, 0, 1, 0, 1, 0, 0, 1, 0, 0, 0, 0, 0, 0, 0, 0, 0, 0, 0, 0, 0, 0, 1, 0]\n",
            " [0, 0, 0, 0, 0, 0, 0, 1, 0, 0, 0, 1, 0, 1, 1, 0, 0, 0, 0, 0, 0, 0, 0, 0, 0, 0, 0, 0, 0, 0, 0, 1]\n",
            " [1, 0, 0, 0, 0, 0, 0, 0, 0, 0, 0, 0, 0, 0, 0, 0, 0, 1, 1, 0, 1, 0, 0, 0, 1, 0, 0, 0, 0, 0, 0, 0]\n",
            " [0, 1, 0, 0, 0, 0, 0, 0, 0, 0, 0, 0, 0, 0, 0, 0, 1, 0, 0, 1, 0, 1, 0, 0, 0, 1, 0, 0, 0, 0, 0, 0]\n",
            " [0, 0, 1, 0, 0, 0, 0, 0, 0, 0, 0, 0, 0, 0, 0, 0, 1, 0, 0, 1, 0, 0, 1, 0, 0, 0, 1, 0, 0, 0, 0, 0]\n",
            " [0, 0, 0, 1, 0, 0, 0, 0, 0, 0, 0, 0, 0, 0, 0, 0, 0, 1, 1, 0, 0, 0, 0, 1, 0, 0, 0, 1, 0, 0, 0, 0]\n",
            " [0, 0, 0, 0, 1, 0, 0, 0, 0, 0, 0, 0, 0, 0, 0, 0, 1, 0, 0, 0, 0, 1, 1, 0, 0, 0, 0, 0, 1, 0, 0, 0]\n",
            " [0, 0, 0, 0, 0, 1, 0, 0, 0, 0, 0, 0, 0, 0, 0, 0, 0, 1, 0, 0, 1, 0, 0, 1, 0, 0, 0, 0, 0, 1, 0, 0]\n",
            " [0, 0, 0, 0, 0, 0, 1, 0, 0, 0, 0, 0, 0, 0, 0, 0, 0, 0, 1, 0, 1, 0, 0, 1, 0, 0, 0, 0, 0, 0, 1, 0]\n",
            " [0, 0, 0, 0, 0, 0, 0, 1, 0, 0, 0, 0, 0, 0, 0, 0, 0, 0, 0, 1, 0, 1, 1, 0, 0, 0, 0, 0, 0, 0, 0, 1]\n",
            " [0, 0, 0, 0, 0, 0, 0, 0, 1, 0, 0, 0, 0, 0, 0, 0, 1, 0, 0, 0, 0, 0, 0, 0, 0, 1, 1, 0, 1, 0, 0, 0]\n",
            " [0, 0, 0, 0, 0, 0, 0, 0, 0, 1, 0, 0, 0, 0, 0, 0, 0, 1, 0, 0, 0, 0, 0, 0, 1, 0, 0, 1, 0, 1, 0, 0]\n",
            " [0, 0, 0, 0, 0, 0, 0, 0, 0, 0, 1, 0, 0, 0, 0, 0, 0, 0, 1, 0, 0, 0, 0, 0, 1, 0, 0, 1, 0, 0, 1, 0]\n",
            " [0, 0, 0, 0, 0, 0, 0, 0, 0, 0, 0, 1, 0, 0, 0, 0, 0, 0, 0, 1, 0, 0, 0, 0, 0, 1, 1, 0, 0, 0, 0, 1]\n",
            " [0, 0, 0, 0, 0, 0, 0, 0, 0, 0, 0, 0, 1, 0, 0, 0, 0, 0, 0, 0, 1, 0, 0, 0, 1, 0, 0, 0, 0, 1, 1, 0]\n",
            " [0, 0, 0, 0, 0, 0, 0, 0, 0, 0, 0, 0, 0, 1, 0, 0, 0, 0, 0, 0, 0, 1, 0, 0, 0, 1, 0, 0, 1, 0, 0, 1]\n",
            " [0, 0, 0, 0, 0, 0, 0, 0, 0, 0, 0, 0, 0, 0, 1, 0, 0, 0, 0, 0, 0, 0, 1, 0, 0, 0, 1, 0, 1, 0, 0, 1]\n",
            " [0, 0, 0, 0, 0, 0, 0, 0, 0, 0, 0, 0, 0, 0, 0, 1, 0, 0, 0, 0, 0, 0, 0, 1, 0, 0, 0, 1, 0, 1, 1, 0]]\n",
            "------\n",
            "Sequencia de Graus\n",
            "[5, 5, 5, 5, 5, 5, 5, 5, 5, 5, 5, 5, 5, 5, 5, 5, 5, 5, 5, 5, 5, 5, 5, 5, 5, 5, 5, 5, 5, 5, 5, 5]\n",
            "------\n",
            "Histograma de Graus\n",
            "N = 32, mean +- sd: 5.0000 +- 0.0000\n",
            "[5, 6): ******************************** (32)\n",
            "------\n",
            "Diametro\n",
            "5\n"
          ],
          "name": "stdout"
        }
      ]
    }
  ]
}