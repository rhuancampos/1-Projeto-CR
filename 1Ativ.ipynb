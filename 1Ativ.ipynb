{
  "nbformat": 4,
  "nbformat_minor": 0,
  "metadata": {
    "colab": {
      "name": "1Ativ.ipynb",
      "provenance": [],
      "authorship_tag": "ABX9TyNjZxnEtuRQVTRAnJcisqoe",
      "include_colab_link": true
    },
    "kernelspec": {
      "name": "python3",
      "display_name": "Python 3"
    }
  },
  "cells": [
    {
      "cell_type": "markdown",
      "metadata": {
        "id": "view-in-github",
        "colab_type": "text"
      },
      "source": [
        "<a href=\"https://colab.research.google.com/github/rhuancampos/1-Projeto-CR/blob/master/1Ativ.ipynb\" target=\"_parent\"><img src=\"https://colab.research.google.com/assets/colab-badge.svg\" alt=\"Open In Colab\"/></a>"
      ]
    },
    {
      "cell_type": "code",
      "metadata": {
        "id": "LrDIian5fbiD",
        "outputId": "4e3b05ec-92d4-4a36-8cc7-ce23dd239217",
        "colab": {
          "base_uri": "https://localhost:8080/",
          "height": 255
        }
      },
      "source": [
        "!pip install cairocffi\n",
        "!pip download python-igraph\n",
        "!pip install --no-index --find-links=\".\" python-igraph\n",
        "!pip install networkx"
      ],
      "execution_count": 1,
      "outputs": [
        {
          "output_type": "stream",
          "text": [
            "Requirement already satisfied: cairocffi in /usr/local/lib/python3.6/dist-packages (1.1.0)\n",
            "Requirement already satisfied: setuptools>=39.2.0 in /usr/local/lib/python3.6/dist-packages (from cairocffi) (50.3.0)\n",
            "Requirement already satisfied: cffi>=1.1.0 in /usr/local/lib/python3.6/dist-packages (from cairocffi) (1.14.3)\n",
            "Requirement already satisfied: pycparser in /usr/local/lib/python3.6/dist-packages (from cffi>=1.1.0->cairocffi) (2.20)\n",
            "Collecting python-igraph\n",
            "  File was already downloaded /content/python_igraph-0.8.2-cp36-cp36m-manylinux2010_x86_64.whl\n",
            "Collecting texttable>=1.6.2\n",
            "  File was already downloaded /content/texttable-1.6.3-py2.py3-none-any.whl\n",
            "Successfully downloaded python-igraph texttable\n",
            "Looking in links: .\n",
            "Requirement already satisfied: python-igraph in /usr/local/lib/python3.6/dist-packages (0.8.2)\n",
            "Requirement already satisfied: texttable>=1.6.2 in /usr/local/lib/python3.6/dist-packages (from python-igraph) (1.6.3)\n",
            "Requirement already satisfied: networkx in /usr/local/lib/python3.6/dist-packages (2.5)\n",
            "Requirement already satisfied: decorator>=4.3.0 in /usr/local/lib/python3.6/dist-packages (from networkx) (4.4.2)\n"
          ],
          "name": "stdout"
        }
      ]
    },
    {
      "cell_type": "code",
      "metadata": {
        "id": "lzypu9rsZzeb"
      },
      "source": [
        "import numpy as np\n",
        "import igraph as ig\n",
        "from igraph import *\n",
        "import matplotlib as mpl\n",
        "import matplotlib.pyplot as plt"
      ],
      "execution_count": 2,
      "outputs": []
    },
    {
      "cell_type": "code",
      "metadata": {
        "id": "RNj6aPgpbS_R"
      },
      "source": [
        "# function to check if x is power of 2 \n",
        "def isPowerOfTwo( x ): \n",
        "  \n",
        "    # First x in the below expression is \n",
        "    # for the case when x is 0 \n",
        "    return x and (not(x & (x - 1))) \n",
        "  \n",
        "# function to check whether the two numbers \n",
        "# differ at one bit position only \n",
        "def differAtOneBitPos( a , b ): \n",
        "    return isPowerOfTwo(a ^ b) \n",
        "\n",
        "def removeDuplicate(arestas):\n",
        "  l = []\n",
        "  id_duplicate = []\n",
        "\n",
        "  for idx, x in enumerate(arestas):\n",
        "    for idy, y in enumerate(arestas):\n",
        "      if (x[1],x[0]) == y:\n",
        "        l.append(y)\n",
        "\n",
        "  print(l)\n",
        "\n",
        "\n",
        "def graph(n):\n",
        "  vertices = 2 ** n\n",
        "  arestas = []\n",
        "  grafo = Graph()\n",
        "  grafo.add_vertices(vertices)\n",
        "\n",
        "  for x in range(vertices):\n",
        "    for i in range(vertices):\n",
        "      if (differAtOneBitPos(x, i)):\n",
        "        arestas.append((x,i))\n",
        "\n",
        "  grafo.add_edges(arestas)\n",
        "\n",
        "  removeDuplicate(arestas)\n",
        "\n",
        "  return grafo, arestas"
      ],
      "execution_count": 47,
      "outputs": []
    },
    {
      "cell_type": "code",
      "metadata": {
        "id": "z1FONUR2esNi",
        "outputId": "5249604a-c689-41cf-f6e0-8157424deaa0",
        "colab": {
          "base_uri": "https://localhost:8080/",
          "height": 923
        }
      },
      "source": [
        "grafo, arestas = graph(3)\n",
        "\n",
        "print(grafo)\n",
        "print(arestas)\n",
        "\n",
        "layout = grafo.layout(\"kk\")\n",
        "plot(grafo, layout = layout)"
      ],
      "execution_count": 48,
      "outputs": [
        {
          "output_type": "stream",
          "text": [
            "[(1, 0), (2, 0), (4, 0), (0, 1), (3, 1), (5, 1), (0, 2), (3, 2), (6, 2), (1, 3), (2, 3), (7, 3), (0, 4), (5, 4), (6, 4), (1, 5), (4, 5), (7, 5), (2, 6), (4, 6), (7, 6), (3, 7), (5, 7), (6, 7)]\n",
            "IGRAPH U--- 8 24 --\n",
            "+ edges:\n",
            "0 -- 1 1 2 2 4 4   2 -- 0 0 3 3 6 6   4 -- 0 0 5 5 6 6   6 -- 2 2 4 4 7 7\n",
            "1 -- 0 0 3 3 5 5   3 -- 1 1 2 2 7 7   5 -- 1 1 4 4 7 7   7 -- 3 3 5 5 6 6\n",
            "[(0, 1), (0, 2), (0, 4), (1, 0), (1, 3), (1, 5), (2, 0), (2, 3), (2, 6), (3, 1), (3, 2), (3, 7), (4, 0), (4, 5), (4, 6), (5, 1), (5, 4), (5, 7), (6, 2), (6, 4), (6, 7), (7, 3), (7, 5), (7, 6)]\n"
          ],
          "name": "stdout"
        },
        {
          "output_type": "execute_result",
          "data": {
            "text/plain": [
              "<igraph.drawing.Plot at 0x7f8cdae34470>"
            ],
            "image/svg+xml": "<?xml version=\"1.0\" encoding=\"UTF-8\"?>\n<svg xmlns=\"http://www.w3.org/2000/svg\" xmlns:xlink=\"http://www.w3.org/1999/xlink\" width=\"600pt\" height=\"600pt\" viewBox=\"0 0 600 600\" version=\"1.1\">\n<g id=\"surface122\">\n<rect x=\"0\" y=\"0\" width=\"600\" height=\"600\" style=\"fill:rgb(100%,100%,100%);fill-opacity:1;stroke:none;\"/>\n<path style=\"fill:none;stroke-width:1;stroke-linecap:butt;stroke-linejoin:miter;stroke:rgb(26.666667%,26.666667%,26.666667%);stroke-opacity:1;stroke-miterlimit:10;\" d=\"M 580 418.035156 C 458.191406 411.035156 376.871094 465.023438 336.042969 580 \"/>\n<path style=\"fill:none;stroke-width:1;stroke-linecap:butt;stroke-linejoin:miter;stroke:rgb(26.666667%,26.666667%,26.666667%);stroke-opacity:1;stroke-miterlimit:10;\" d=\"M 580 418.035156 C 492.628906 307.527344 383.664062 278.742188 253.113281 331.679688 \"/>\n<path style=\"fill:none;stroke-width:1;stroke-linecap:butt;stroke-linejoin:miter;stroke:rgb(26.666667%,26.666667%,26.666667%);stroke-opacity:1;stroke-miterlimit:10;\" d=\"M 580 418.035156 C 652.515625 316.4375 650.15625 216.609375 572.925781 118.550781 \"/>\n<path style=\"fill:none;stroke-width:1;stroke-linecap:butt;stroke-linejoin:miter;stroke:rgb(26.666667%,26.666667%,26.666667%);stroke-opacity:1;stroke-miterlimit:10;\" d=\"M 580 418.035156 C 539.171875 533.011719 457.851562 587 336.042969 580 \"/>\n<path style=\"fill:none;stroke-width:1;stroke-linecap:butt;stroke-linejoin:miter;stroke:rgb(26.666667%,26.666667%,26.666667%);stroke-opacity:1;stroke-miterlimit:10;\" d=\"M 336.042969 580 C 257.691406 469.90625 154.699219 437.054688 27.070312 481.449219 \"/>\n<path style=\"fill:none;stroke-width:1;stroke-linecap:butt;stroke-linejoin:miter;stroke:rgb(26.666667%,26.666667%,26.666667%);stroke-opacity:1;stroke-miterlimit:10;\" d=\"M 336.042969 580 C 417.578125 478.816406 421.191406 374.921875 346.882812 268.320312 \"/>\n<path style=\"fill:none;stroke-width:1;stroke-linecap:butt;stroke-linejoin:miter;stroke:rgb(26.666667%,26.666667%,26.666667%);stroke-opacity:1;stroke-miterlimit:10;\" d=\"M 580 418.035156 C 449.449219 470.972656 340.488281 442.183594 253.113281 331.679688 \"/>\n<path style=\"fill:none;stroke-width:1;stroke-linecap:butt;stroke-linejoin:miter;stroke:rgb(26.666667%,26.666667%,26.666667%);stroke-opacity:1;stroke-miterlimit:10;\" d=\"M 253.113281 331.679688 C 140.324219 325.089844 64.976562 375.011719 27.070312 481.449219 \"/>\n<path style=\"fill:none;stroke-width:1;stroke-linecap:butt;stroke-linejoin:miter;stroke:rgb(26.666667%,26.666667%,26.666667%);stroke-opacity:1;stroke-miterlimit:10;\" d=\"M 253.113281 331.679688 C 334.648438 230.496094 338.261719 126.601562 263.953125 20 \"/>\n<path style=\"fill:none;stroke-width:1;stroke-linecap:butt;stroke-linejoin:miter;stroke:rgb(26.666667%,26.666667%,26.666667%);stroke-opacity:1;stroke-miterlimit:10;\" d=\"M 336.042969 580 C 208.414062 624.390625 105.421875 591.542969 27.070312 481.449219 \"/>\n<path style=\"fill:none;stroke-width:1;stroke-linecap:butt;stroke-linejoin:miter;stroke:rgb(26.666667%,26.666667%,26.666667%);stroke-opacity:1;stroke-miterlimit:10;\" d=\"M 253.113281 331.679688 C 215.210938 438.113281 139.859375 488.035156 27.070312 481.449219 \"/>\n<path style=\"fill:none;stroke-width:1;stroke-linecap:butt;stroke-linejoin:miter;stroke:rgb(26.666667%,26.666667%,26.666667%);stroke-opacity:1;stroke-miterlimit:10;\" d=\"M 27.070312 481.449219 C 99.585938 379.851562 97.226562 280.023438 20 181.960938 \"/>\n<path style=\"fill:none;stroke-width:1;stroke-linecap:butt;stroke-linejoin:miter;stroke:rgb(26.666667%,26.666667%,26.666667%);stroke-opacity:1;stroke-miterlimit:10;\" d=\"M 580 418.035156 C 502.769531 319.976562 500.414062 220.148438 572.925781 118.550781 \"/>\n<path style=\"fill:none;stroke-width:1;stroke-linecap:butt;stroke-linejoin:miter;stroke:rgb(26.666667%,26.666667%,26.666667%);stroke-opacity:1;stroke-miterlimit:10;\" d=\"M 572.925781 118.550781 C 460.136719 111.960938 384.789062 161.886719 346.882812 268.320312 \"/>\n<path style=\"fill:none;stroke-width:1;stroke-linecap:butt;stroke-linejoin:miter;stroke:rgb(26.666667%,26.666667%,26.666667%);stroke-opacity:1;stroke-miterlimit:10;\" d=\"M 572.925781 118.550781 C 494.574219 8.457031 391.582031 -24.394531 263.953125 20 \"/>\n<path style=\"fill:none;stroke-width:1;stroke-linecap:butt;stroke-linejoin:miter;stroke:rgb(26.666667%,26.666667%,26.666667%);stroke-opacity:1;stroke-miterlimit:10;\" d=\"M 336.042969 580 C 261.734375 473.394531 265.347656 369.503906 346.882812 268.320312 \"/>\n<path style=\"fill:none;stroke-width:1;stroke-linecap:butt;stroke-linejoin:miter;stroke:rgb(26.666667%,26.666667%,26.666667%);stroke-opacity:1;stroke-miterlimit:10;\" d=\"M 572.925781 118.550781 C 535.019531 224.984375 459.671875 274.90625 346.882812 268.320312 \"/>\n<path style=\"fill:none;stroke-width:1;stroke-linecap:butt;stroke-linejoin:miter;stroke:rgb(26.666667%,26.666667%,26.666667%);stroke-opacity:1;stroke-miterlimit:10;\" d=\"M 346.882812 268.320312 C 259.511719 157.8125 150.550781 129.027344 20 181.960938 \"/>\n<path style=\"fill:none;stroke-width:1;stroke-linecap:butt;stroke-linejoin:miter;stroke:rgb(26.666667%,26.666667%,26.666667%);stroke-opacity:1;stroke-miterlimit:10;\" d=\"M 253.113281 331.679688 C 178.808594 225.074219 182.421875 121.183594 263.953125 20 \"/>\n<path style=\"fill:none;stroke-width:1;stroke-linecap:butt;stroke-linejoin:miter;stroke:rgb(26.666667%,26.666667%,26.666667%);stroke-opacity:1;stroke-miterlimit:10;\" d=\"M 572.925781 118.550781 C 445.296875 162.941406 342.308594 130.09375 263.953125 20 \"/>\n<path style=\"fill:none;stroke-width:1;stroke-linecap:butt;stroke-linejoin:miter;stroke:rgb(26.666667%,26.666667%,26.666667%);stroke-opacity:1;stroke-miterlimit:10;\" d=\"M 263.953125 20 C 142.144531 13 60.828125 66.988281 20 181.960938 \"/>\n<path style=\"fill:none;stroke-width:1;stroke-linecap:butt;stroke-linejoin:miter;stroke:rgb(26.666667%,26.666667%,26.666667%);stroke-opacity:1;stroke-miterlimit:10;\" d=\"M 27.070312 481.449219 C -50.15625 383.386719 -52.515625 283.558594 20 181.960938 \"/>\n<path style=\"fill:none;stroke-width:1;stroke-linecap:butt;stroke-linejoin:miter;stroke:rgb(26.666667%,26.666667%,26.666667%);stroke-opacity:1;stroke-miterlimit:10;\" d=\"M 346.882812 268.320312 C 216.332031 321.253906 107.371094 292.46875 20 181.960938 \"/>\n<path style=\"fill:none;stroke-width:1;stroke-linecap:butt;stroke-linejoin:miter;stroke:rgb(26.666667%,26.666667%,26.666667%);stroke-opacity:1;stroke-miterlimit:10;\" d=\"M 263.953125 20 C 223.128906 134.976562 141.808594 188.964844 20 181.960938 \"/>\n<path style=\"fill-rule:nonzero;fill:rgb(100%,0%,0%);fill-opacity:1;stroke-width:1;stroke-linecap:butt;stroke-linejoin:miter;stroke:rgb(0%,0%,0%);stroke-opacity:1;stroke-miterlimit:10;\" d=\"M 590 418.035156 C 590 423.558594 585.523438 428.035156 580 428.035156 C 574.476562 428.035156 570 423.558594 570 418.035156 C 570 412.511719 574.476562 408.035156 580 408.035156 C 585.523438 408.035156 590 412.511719 590 418.035156 \"/>\n<path style=\"fill-rule:nonzero;fill:rgb(100%,0%,0%);fill-opacity:1;stroke-width:1;stroke-linecap:butt;stroke-linejoin:miter;stroke:rgb(0%,0%,0%);stroke-opacity:1;stroke-miterlimit:10;\" d=\"M 346.042969 580 C 346.042969 585.523438 341.566406 590 336.042969 590 C 330.519531 590 326.042969 585.523438 326.042969 580 C 326.042969 574.476562 330.519531 570 336.042969 570 C 341.566406 570 346.042969 574.476562 346.042969 580 \"/>\n<path style=\"fill-rule:nonzero;fill:rgb(100%,0%,0%);fill-opacity:1;stroke-width:1;stroke-linecap:butt;stroke-linejoin:miter;stroke:rgb(0%,0%,0%);stroke-opacity:1;stroke-miterlimit:10;\" d=\"M 263.113281 331.679688 C 263.113281 337.203125 258.636719 341.679688 253.113281 341.679688 C 247.59375 341.679688 243.113281 337.203125 243.113281 331.679688 C 243.113281 326.15625 247.59375 321.679688 253.113281 321.679688 C 258.636719 321.679688 263.113281 326.15625 263.113281 331.679688 \"/>\n<path style=\"fill-rule:nonzero;fill:rgb(100%,0%,0%);fill-opacity:1;stroke-width:1;stroke-linecap:butt;stroke-linejoin:miter;stroke:rgb(0%,0%,0%);stroke-opacity:1;stroke-miterlimit:10;\" d=\"M 37.070312 481.449219 C 37.070312 486.96875 32.59375 491.449219 27.070312 491.449219 C 21.546875 491.449219 17.070312 486.96875 17.070312 481.449219 C 17.070312 475.925781 21.546875 471.449219 27.070312 471.449219 C 32.59375 471.449219 37.070312 475.925781 37.070312 481.449219 \"/>\n<path style=\"fill-rule:nonzero;fill:rgb(100%,0%,0%);fill-opacity:1;stroke-width:1;stroke-linecap:butt;stroke-linejoin:miter;stroke:rgb(0%,0%,0%);stroke-opacity:1;stroke-miterlimit:10;\" d=\"M 582.925781 118.550781 C 582.925781 124.074219 578.449219 128.550781 572.925781 128.550781 C 567.402344 128.550781 562.925781 124.074219 562.925781 118.550781 C 562.925781 113.027344 567.402344 108.550781 572.925781 108.550781 C 578.449219 108.550781 582.925781 113.027344 582.925781 118.550781 \"/>\n<path style=\"fill-rule:nonzero;fill:rgb(100%,0%,0%);fill-opacity:1;stroke-width:1;stroke-linecap:butt;stroke-linejoin:miter;stroke:rgb(0%,0%,0%);stroke-opacity:1;stroke-miterlimit:10;\" d=\"M 356.882812 268.320312 C 356.882812 273.839844 352.40625 278.320312 346.882812 278.320312 C 341.359375 278.320312 336.882812 273.839844 336.882812 268.320312 C 336.882812 262.796875 341.359375 258.320312 346.882812 258.320312 C 352.40625 258.320312 356.882812 262.796875 356.882812 268.320312 \"/>\n<path style=\"fill-rule:nonzero;fill:rgb(100%,0%,0%);fill-opacity:1;stroke-width:1;stroke-linecap:butt;stroke-linejoin:miter;stroke:rgb(0%,0%,0%);stroke-opacity:1;stroke-miterlimit:10;\" d=\"M 273.953125 20 C 273.953125 25.523438 269.476562 30 263.953125 30 C 258.433594 30 253.953125 25.523438 253.953125 20 C 253.953125 14.476562 258.433594 10 263.953125 10 C 269.476562 10 273.953125 14.476562 273.953125 20 \"/>\n<path style=\"fill-rule:nonzero;fill:rgb(100%,0%,0%);fill-opacity:1;stroke-width:1;stroke-linecap:butt;stroke-linejoin:miter;stroke:rgb(0%,0%,0%);stroke-opacity:1;stroke-miterlimit:10;\" d=\"M 30 181.960938 C 30 187.484375 25.523438 191.960938 20 191.960938 C 14.476562 191.960938 10 187.484375 10 181.960938 C 10 176.441406 14.476562 171.960938 20 171.960938 C 25.523438 171.960938 30 176.441406 30 181.960938 \"/>\n</g>\n</svg>\n"
          },
          "metadata": {
            "tags": [],
            "image/svg+xml": {
              "isolated": true
            }
          },
          "execution_count": 48
        }
      ]
    }
  ]
}